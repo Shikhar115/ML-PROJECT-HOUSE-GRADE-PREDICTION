{
 "cells": [
  {
   "cell_type": "markdown",
   "id": "2e12aee9",
   "metadata": {},
   "source": [
    "## importing necessary libraries"
   ]
  },
  {
   "cell_type": "code",
   "execution_count": 1,
   "id": "59521185",
   "metadata": {},
   "outputs": [],
   "source": [
    "import numpy as np   # for numerial analysis\n",
    "import pandas as pd\n",
    "import matplotlib.pyplot as plt\n",
    "import seaborn as sns   # for visualization\n",
    "from sklearn.linear_model import LogisticRegression  # for model building\n",
    "from sklearn.metrics import mean_squared_error\n",
    "from sklearn.metrics import mean_absolute_error   # for finding error\n",
    "from sklearn import preprocessing\n",
    "from sklearn.preprocessing import StandardScaler, LabelEncoder   # for scaling and label encoding\n",
    "from sklearn.model_selection import train_test_split # for train test split\n",
    "from sklearn.metrics import accuracy_score\n",
    "from sklearn.metrics import plot_confusion_matrix   # for ploting confusion matrix\n",
    "from sklearn.naive_bayes import GaussianNB \n",
    "from sklearn.metrics import classification_report\n",
    "from sklearn.metrics import r2_score\n",
    "from sklearn.model_selection import cross_val_score\n",
    "from sklearn.model_selection import RepeatedStratifiedKFold\n",
    "from sklearn.model_selection import KFold\n",
    "from sklearn.model_selection import cross_val_score\n",
    "from sklearn.tree import DecisionTreeClassifier   # for model buiding\n",
    "from sklearn.ensemble import RandomForestClassifier   # for model building\n",
    "from sklearn.metrics import roc_auc_score\n",
    "from numpy import mean, std\n",
    "from sklearn.neighbors import KNeighborsClassifier   # for model building\n",
    "from sklearn.svm import SVC\n",
    "from sklearn.ensemble import StackingClassifier\n",
    "from sklearn.ensemble import AdaBoostClassifier   # for model building\n"
   ]
  },
  {
   "cell_type": "markdown",
   "id": "08f80187",
   "metadata": {},
   "source": [
    "## loading the data"
   ]
  },
  {
   "cell_type": "code",
   "execution_count": 2,
   "id": "77656079",
   "metadata": {},
   "outputs": [],
   "source": [
    "df=pd.read_csv('Project2_Classification_HouseGrade_Data_Project-625edbc5-68f4-4fe4-97f2-29ba63a71a0e.csv')"
   ]
  },
  {
   "cell_type": "code",
   "execution_count": 3,
   "id": "28a480a1",
   "metadata": {},
   "outputs": [
    {
     "data": {
      "text/html": [
       "<div>\n",
       "<style scoped>\n",
       "    .dataframe tbody tr th:only-of-type {\n",
       "        vertical-align: middle;\n",
       "    }\n",
       "\n",
       "    .dataframe tbody tr th {\n",
       "        vertical-align: top;\n",
       "    }\n",
       "\n",
       "    .dataframe thead th {\n",
       "        text-align: right;\n",
       "    }\n",
       "</style>\n",
       "<table border=\"1\" class=\"dataframe\">\n",
       "  <thead>\n",
       "    <tr style=\"text-align: right;\">\n",
       "      <th></th>\n",
       "      <th>Id</th>\n",
       "      <th>Area(total)</th>\n",
       "      <th>Trooms</th>\n",
       "      <th>Nbedrooms</th>\n",
       "      <th>Nbwashrooms</th>\n",
       "      <th>Twashrooms</th>\n",
       "      <th>roof</th>\n",
       "      <th>Roof(Area)</th>\n",
       "      <th>Lawn(Area)</th>\n",
       "      <th>Nfloors</th>\n",
       "      <th>API</th>\n",
       "      <th>ANB</th>\n",
       "      <th>Expected price</th>\n",
       "      <th>Grade</th>\n",
       "    </tr>\n",
       "  </thead>\n",
       "  <tbody>\n",
       "    <tr>\n",
       "      <th>0</th>\n",
       "      <td>1</td>\n",
       "      <td>339</td>\n",
       "      <td>6</td>\n",
       "      <td>5</td>\n",
       "      <td>4</td>\n",
       "      <td>6</td>\n",
       "      <td>NO</td>\n",
       "      <td>0</td>\n",
       "      <td>76</td>\n",
       "      <td>2</td>\n",
       "      <td>79</td>\n",
       "      <td>6</td>\n",
       "      <td>3481</td>\n",
       "      <td>D</td>\n",
       "    </tr>\n",
       "    <tr>\n",
       "      <th>1</th>\n",
       "      <td>2</td>\n",
       "      <td>358</td>\n",
       "      <td>5</td>\n",
       "      <td>4</td>\n",
       "      <td>3</td>\n",
       "      <td>4</td>\n",
       "      <td>YES</td>\n",
       "      <td>71</td>\n",
       "      <td>96</td>\n",
       "      <td>3</td>\n",
       "      <td>72</td>\n",
       "      <td>4</td>\n",
       "      <td>3510</td>\n",
       "      <td>D</td>\n",
       "    </tr>\n",
       "    <tr>\n",
       "      <th>2</th>\n",
       "      <td>3</td>\n",
       "      <td>324</td>\n",
       "      <td>7</td>\n",
       "      <td>5</td>\n",
       "      <td>4</td>\n",
       "      <td>5</td>\n",
       "      <td>YES</td>\n",
       "      <td>101</td>\n",
       "      <td>117</td>\n",
       "      <td>5</td>\n",
       "      <td>64</td>\n",
       "      <td>3</td>\n",
       "      <td>3748</td>\n",
       "      <td>C</td>\n",
       "    </tr>\n",
       "    <tr>\n",
       "      <th>3</th>\n",
       "      <td>4</td>\n",
       "      <td>330</td>\n",
       "      <td>6</td>\n",
       "      <td>4</td>\n",
       "      <td>3</td>\n",
       "      <td>5</td>\n",
       "      <td>YES</td>\n",
       "      <td>101</td>\n",
       "      <td>82</td>\n",
       "      <td>2</td>\n",
       "      <td>59</td>\n",
       "      <td>2</td>\n",
       "      <td>3134</td>\n",
       "      <td>D</td>\n",
       "    </tr>\n",
       "    <tr>\n",
       "      <th>4</th>\n",
       "      <td>5</td>\n",
       "      <td>320</td>\n",
       "      <td>7</td>\n",
       "      <td>4</td>\n",
       "      <td>4</td>\n",
       "      <td>5</td>\n",
       "      <td>NO</td>\n",
       "      <td>0</td>\n",
       "      <td>75</td>\n",
       "      <td>3</td>\n",
       "      <td>40</td>\n",
       "      <td>1</td>\n",
       "      <td>3843</td>\n",
       "      <td>D</td>\n",
       "    </tr>\n",
       "    <tr>\n",
       "      <th>...</th>\n",
       "      <td>...</td>\n",
       "      <td>...</td>\n",
       "      <td>...</td>\n",
       "      <td>...</td>\n",
       "      <td>...</td>\n",
       "      <td>...</td>\n",
       "      <td>...</td>\n",
       "      <td>...</td>\n",
       "      <td>...</td>\n",
       "      <td>...</td>\n",
       "      <td>...</td>\n",
       "      <td>...</td>\n",
       "      <td>...</td>\n",
       "      <td>...</td>\n",
       "    </tr>\n",
       "    <tr>\n",
       "      <th>2995</th>\n",
       "      <td>2996</td>\n",
       "      <td>341</td>\n",
       "      <td>9</td>\n",
       "      <td>6</td>\n",
       "      <td>5</td>\n",
       "      <td>7</td>\n",
       "      <td>YES</td>\n",
       "      <td>95</td>\n",
       "      <td>115</td>\n",
       "      <td>5</td>\n",
       "      <td>90</td>\n",
       "      <td>2</td>\n",
       "      <td>4246</td>\n",
       "      <td>B</td>\n",
       "    </tr>\n",
       "    <tr>\n",
       "      <th>2996</th>\n",
       "      <td>2997</td>\n",
       "      <td>292</td>\n",
       "      <td>9</td>\n",
       "      <td>8</td>\n",
       "      <td>7</td>\n",
       "      <td>8</td>\n",
       "      <td>YES</td>\n",
       "      <td>116</td>\n",
       "      <td>87</td>\n",
       "      <td>7</td>\n",
       "      <td>97</td>\n",
       "      <td>4</td>\n",
       "      <td>3753</td>\n",
       "      <td>A</td>\n",
       "    </tr>\n",
       "    <tr>\n",
       "      <th>2997</th>\n",
       "      <td>2998</td>\n",
       "      <td>328</td>\n",
       "      <td>7</td>\n",
       "      <td>4</td>\n",
       "      <td>3</td>\n",
       "      <td>5</td>\n",
       "      <td>NO</td>\n",
       "      <td>0</td>\n",
       "      <td>78</td>\n",
       "      <td>5</td>\n",
       "      <td>95</td>\n",
       "      <td>6</td>\n",
       "      <td>3607</td>\n",
       "      <td>D</td>\n",
       "    </tr>\n",
       "    <tr>\n",
       "      <th>2998</th>\n",
       "      <td>2999</td>\n",
       "      <td>293</td>\n",
       "      <td>9</td>\n",
       "      <td>7</td>\n",
       "      <td>7</td>\n",
       "      <td>8</td>\n",
       "      <td>NO</td>\n",
       "      <td>0</td>\n",
       "      <td>78</td>\n",
       "      <td>7</td>\n",
       "      <td>51</td>\n",
       "      <td>3</td>\n",
       "      <td>4198</td>\n",
       "      <td>B</td>\n",
       "    </tr>\n",
       "    <tr>\n",
       "      <th>2999</th>\n",
       "      <td>3000</td>\n",
       "      <td>343</td>\n",
       "      <td>7</td>\n",
       "      <td>6</td>\n",
       "      <td>6</td>\n",
       "      <td>8</td>\n",
       "      <td>NO</td>\n",
       "      <td>0</td>\n",
       "      <td>108</td>\n",
       "      <td>5</td>\n",
       "      <td>95</td>\n",
       "      <td>3</td>\n",
       "      <td>4105</td>\n",
       "      <td>C</td>\n",
       "    </tr>\n",
       "  </tbody>\n",
       "</table>\n",
       "<p>3000 rows × 14 columns</p>\n",
       "</div>"
      ],
      "text/plain": [
       "        Id  Area(total)  Trooms  Nbedrooms  Nbwashrooms  Twashrooms roof  \\\n",
       "0        1          339       6          5            4           6   NO   \n",
       "1        2          358       5          4            3           4  YES   \n",
       "2        3          324       7          5            4           5  YES   \n",
       "3        4          330       6          4            3           5  YES   \n",
       "4        5          320       7          4            4           5   NO   \n",
       "...    ...          ...     ...        ...          ...         ...  ...   \n",
       "2995  2996          341       9          6            5           7  YES   \n",
       "2996  2997          292       9          8            7           8  YES   \n",
       "2997  2998          328       7          4            3           5   NO   \n",
       "2998  2999          293       9          7            7           8   NO   \n",
       "2999  3000          343       7          6            6           8   NO   \n",
       "\n",
       "      Roof(Area)  Lawn(Area)  Nfloors  API  ANB  Expected price Grade  \n",
       "0              0          76        2   79    6            3481     D  \n",
       "1             71          96        3   72    4            3510     D  \n",
       "2            101         117        5   64    3            3748     C  \n",
       "3            101          82        2   59    2            3134     D  \n",
       "4              0          75        3   40    1            3843     D  \n",
       "...          ...         ...      ...  ...  ...             ...   ...  \n",
       "2995          95         115        5   90    2            4246     B  \n",
       "2996         116          87        7   97    4            3753     A  \n",
       "2997           0          78        5   95    6            3607     D  \n",
       "2998           0          78        7   51    3            4198     B  \n",
       "2999           0         108        5   95    3            4105     C  \n",
       "\n",
       "[3000 rows x 14 columns]"
      ]
     },
     "execution_count": 3,
     "metadata": {},
     "output_type": "execute_result"
    }
   ],
   "source": [
    "df # preview the data"
   ]
  },
  {
   "cell_type": "markdown",
   "id": "9c378d8e",
   "metadata": {},
   "source": [
    "## data preprocessing"
   ]
  },
  {
   "cell_type": "code",
   "execution_count": 4,
   "id": "89d19818",
   "metadata": {},
   "outputs": [
    {
     "data": {
      "text/plain": [
       "(3000, 14)"
      ]
     },
     "execution_count": 4,
     "metadata": {},
     "output_type": "execute_result"
    }
   ],
   "source": [
    "df.shape # shape of data"
   ]
  },
  {
   "cell_type": "code",
   "execution_count": 5,
   "id": "813704da",
   "metadata": {},
   "outputs": [
    {
     "name": "stdout",
     "output_type": "stream",
     "text": [
      "<class 'pandas.core.frame.DataFrame'>\n",
      "RangeIndex: 3000 entries, 0 to 2999\n",
      "Data columns (total 14 columns):\n",
      " #   Column          Non-Null Count  Dtype \n",
      "---  ------          --------------  ----- \n",
      " 0   Id              3000 non-null   int64 \n",
      " 1   Area(total)     3000 non-null   int64 \n",
      " 2   Trooms          3000 non-null   int64 \n",
      " 3   Nbedrooms       3000 non-null   int64 \n",
      " 4   Nbwashrooms     3000 non-null   int64 \n",
      " 5   Twashrooms      3000 non-null   int64 \n",
      " 6   roof            3000 non-null   object\n",
      " 7   Roof(Area)      3000 non-null   int64 \n",
      " 8   Lawn(Area)      3000 non-null   int64 \n",
      " 9   Nfloors         3000 non-null   int64 \n",
      " 10  API             3000 non-null   int64 \n",
      " 11  ANB             3000 non-null   int64 \n",
      " 12  Expected price  3000 non-null   int64 \n",
      " 13  Grade           3000 non-null   object\n",
      "dtypes: int64(12), object(2)\n",
      "memory usage: 328.2+ KB\n"
     ]
    }
   ],
   "source": [
    "df.info()"
   ]
  },
  {
   "cell_type": "code",
   "execution_count": 6,
   "id": "b7d2c6e1",
   "metadata": {},
   "outputs": [
    {
     "data": {
      "text/html": [
       "<div>\n",
       "<style scoped>\n",
       "    .dataframe tbody tr th:only-of-type {\n",
       "        vertical-align: middle;\n",
       "    }\n",
       "\n",
       "    .dataframe tbody tr th {\n",
       "        vertical-align: top;\n",
       "    }\n",
       "\n",
       "    .dataframe thead th {\n",
       "        text-align: right;\n",
       "    }\n",
       "</style>\n",
       "<table border=\"1\" class=\"dataframe\">\n",
       "  <thead>\n",
       "    <tr style=\"text-align: right;\">\n",
       "      <th></th>\n",
       "      <th>Id</th>\n",
       "      <th>Area(total)</th>\n",
       "      <th>Trooms</th>\n",
       "      <th>Nbedrooms</th>\n",
       "      <th>Nbwashrooms</th>\n",
       "      <th>Twashrooms</th>\n",
       "      <th>Roof(Area)</th>\n",
       "      <th>Lawn(Area)</th>\n",
       "      <th>Nfloors</th>\n",
       "      <th>API</th>\n",
       "      <th>ANB</th>\n",
       "      <th>Expected price</th>\n",
       "    </tr>\n",
       "  </thead>\n",
       "  <tbody>\n",
       "    <tr>\n",
       "      <th>count</th>\n",
       "      <td>3000.000000</td>\n",
       "      <td>3000.000000</td>\n",
       "      <td>3000.000000</td>\n",
       "      <td>3000.000000</td>\n",
       "      <td>3000.000000</td>\n",
       "      <td>3000.000000</td>\n",
       "      <td>3000.000000</td>\n",
       "      <td>3000.000000</td>\n",
       "      <td>3000.000000</td>\n",
       "      <td>3000.000000</td>\n",
       "      <td>3000.00000</td>\n",
       "      <td>3000.000000</td>\n",
       "    </tr>\n",
       "    <tr>\n",
       "      <th>mean</th>\n",
       "      <td>1500.500000</td>\n",
       "      <td>325.117000</td>\n",
       "      <td>7.021667</td>\n",
       "      <td>5.023000</td>\n",
       "      <td>4.513667</td>\n",
       "      <td>6.010667</td>\n",
       "      <td>48.980667</td>\n",
       "      <td>95.609333</td>\n",
       "      <td>4.013333</td>\n",
       "      <td>70.190667</td>\n",
       "      <td>3.47900</td>\n",
       "      <td>3782.938333</td>\n",
       "    </tr>\n",
       "    <tr>\n",
       "      <th>std</th>\n",
       "      <td>866.169729</td>\n",
       "      <td>20.507742</td>\n",
       "      <td>1.421221</td>\n",
       "      <td>1.634838</td>\n",
       "      <td>1.715263</td>\n",
       "      <td>1.786136</td>\n",
       "      <td>48.746641</td>\n",
       "      <td>14.837388</td>\n",
       "      <td>1.621532</td>\n",
       "      <td>17.563460</td>\n",
       "      <td>1.69426</td>\n",
       "      <td>567.189995</td>\n",
       "    </tr>\n",
       "    <tr>\n",
       "      <th>min</th>\n",
       "      <td>1.000000</td>\n",
       "      <td>290.000000</td>\n",
       "      <td>5.000000</td>\n",
       "      <td>2.000000</td>\n",
       "      <td>1.000000</td>\n",
       "      <td>2.000000</td>\n",
       "      <td>0.000000</td>\n",
       "      <td>70.000000</td>\n",
       "      <td>1.000000</td>\n",
       "      <td>40.000000</td>\n",
       "      <td>1.00000</td>\n",
       "      <td>2504.000000</td>\n",
       "    </tr>\n",
       "    <tr>\n",
       "      <th>25%</th>\n",
       "      <td>750.750000</td>\n",
       "      <td>308.000000</td>\n",
       "      <td>6.000000</td>\n",
       "      <td>4.000000</td>\n",
       "      <td>3.000000</td>\n",
       "      <td>5.000000</td>\n",
       "      <td>0.000000</td>\n",
       "      <td>83.000000</td>\n",
       "      <td>3.000000</td>\n",
       "      <td>55.000000</td>\n",
       "      <td>2.00000</td>\n",
       "      <td>3354.000000</td>\n",
       "    </tr>\n",
       "    <tr>\n",
       "      <th>50%</th>\n",
       "      <td>1500.500000</td>\n",
       "      <td>325.000000</td>\n",
       "      <td>7.000000</td>\n",
       "      <td>5.000000</td>\n",
       "      <td>4.000000</td>\n",
       "      <td>6.000000</td>\n",
       "      <td>71.000000</td>\n",
       "      <td>96.000000</td>\n",
       "      <td>4.000000</td>\n",
       "      <td>70.000000</td>\n",
       "      <td>4.00000</td>\n",
       "      <td>3771.000000</td>\n",
       "    </tr>\n",
       "    <tr>\n",
       "      <th>75%</th>\n",
       "      <td>2250.250000</td>\n",
       "      <td>343.000000</td>\n",
       "      <td>8.000000</td>\n",
       "      <td>6.000000</td>\n",
       "      <td>6.000000</td>\n",
       "      <td>7.000000</td>\n",
       "      <td>96.000000</td>\n",
       "      <td>109.000000</td>\n",
       "      <td>5.000000</td>\n",
       "      <td>85.000000</td>\n",
       "      <td>5.00000</td>\n",
       "      <td>4208.000000</td>\n",
       "    </tr>\n",
       "    <tr>\n",
       "      <th>max</th>\n",
       "      <td>3000.000000</td>\n",
       "      <td>360.000000</td>\n",
       "      <td>9.000000</td>\n",
       "      <td>8.000000</td>\n",
       "      <td>8.000000</td>\n",
       "      <td>10.000000</td>\n",
       "      <td>120.000000</td>\n",
       "      <td>120.000000</td>\n",
       "      <td>7.000000</td>\n",
       "      <td>100.000000</td>\n",
       "      <td>6.00000</td>\n",
       "      <td>5216.000000</td>\n",
       "    </tr>\n",
       "  </tbody>\n",
       "</table>\n",
       "</div>"
      ],
      "text/plain": [
       "                Id  Area(total)       Trooms    Nbedrooms  Nbwashrooms  \\\n",
       "count  3000.000000  3000.000000  3000.000000  3000.000000  3000.000000   \n",
       "mean   1500.500000   325.117000     7.021667     5.023000     4.513667   \n",
       "std     866.169729    20.507742     1.421221     1.634838     1.715263   \n",
       "min       1.000000   290.000000     5.000000     2.000000     1.000000   \n",
       "25%     750.750000   308.000000     6.000000     4.000000     3.000000   \n",
       "50%    1500.500000   325.000000     7.000000     5.000000     4.000000   \n",
       "75%    2250.250000   343.000000     8.000000     6.000000     6.000000   \n",
       "max    3000.000000   360.000000     9.000000     8.000000     8.000000   \n",
       "\n",
       "        Twashrooms   Roof(Area)   Lawn(Area)      Nfloors          API  \\\n",
       "count  3000.000000  3000.000000  3000.000000  3000.000000  3000.000000   \n",
       "mean      6.010667    48.980667    95.609333     4.013333    70.190667   \n",
       "std       1.786136    48.746641    14.837388     1.621532    17.563460   \n",
       "min       2.000000     0.000000    70.000000     1.000000    40.000000   \n",
       "25%       5.000000     0.000000    83.000000     3.000000    55.000000   \n",
       "50%       6.000000    71.000000    96.000000     4.000000    70.000000   \n",
       "75%       7.000000    96.000000   109.000000     5.000000    85.000000   \n",
       "max      10.000000   120.000000   120.000000     7.000000   100.000000   \n",
       "\n",
       "              ANB  Expected price  \n",
       "count  3000.00000     3000.000000  \n",
       "mean      3.47900     3782.938333  \n",
       "std       1.69426      567.189995  \n",
       "min       1.00000     2504.000000  \n",
       "25%       2.00000     3354.000000  \n",
       "50%       4.00000     3771.000000  \n",
       "75%       5.00000     4208.000000  \n",
       "max       6.00000     5216.000000  "
      ]
     },
     "execution_count": 6,
     "metadata": {},
     "output_type": "execute_result"
    }
   ],
   "source": [
    "df.describe()"
   ]
  },
  {
   "cell_type": "markdown",
   "id": "92faa5bf",
   "metadata": {},
   "source": [
    "## checking null values"
   ]
  },
  {
   "cell_type": "code",
   "execution_count": 7,
   "id": "fb8d3103",
   "metadata": {},
   "outputs": [
    {
     "data": {
      "text/plain": [
       "Id                0\n",
       "Area(total)       0\n",
       "Trooms            0\n",
       "Nbedrooms         0\n",
       "Nbwashrooms       0\n",
       "Twashrooms        0\n",
       "roof              0\n",
       "Roof(Area)        0\n",
       "Lawn(Area)        0\n",
       "Nfloors           0\n",
       "API               0\n",
       "ANB               0\n",
       "Expected price    0\n",
       "Grade             0\n",
       "dtype: int64"
      ]
     },
     "execution_count": 7,
     "metadata": {},
     "output_type": "execute_result"
    }
   ],
   "source": [
    "df.isnull().sum()"
   ]
  },
  {
   "cell_type": "markdown",
   "id": "faafebbc",
   "metadata": {},
   "source": [
    "### conclusion: no null values"
   ]
  },
  {
   "cell_type": "markdown",
   "id": "e38e08f9",
   "metadata": {},
   "source": [
    "# EDA"
   ]
  },
  {
   "cell_type": "markdown",
   "id": "cdef9cdb",
   "metadata": {},
   "source": [
    "LEVEL 1 Analysis \n",
    "-------------------------\n",
    "Identify if the type data in each column is categorical or numerical?\n",
    "1. Separate out the categorical columns from the numerical types\n",
    "\n",
    "### These are the kind of analyses that can be performed on categorical data\n",
    "1. Check if it is Nominal or Ordinal \n",
    "2. Check how many categories are present\n",
    "3. Check the Mode \n",
    "4. Check for Missing values \n",
    "5. Think about how the missing values could be treated\n",
    "6. Think about the kind of graph/chart that can be plotted using this data\n",
    "\n",
    "Note: We are analyzing only one column at a time (Univariate Analysis)."
   ]
  },
  {
   "cell_type": "markdown",
   "id": "f75bd214",
   "metadata": {},
   "source": [
    "## Separating Categorical and Numerical Variables"
   ]
  },
  {
   "cell_type": "code",
   "execution_count": 8,
   "id": "fabe1c34",
   "metadata": {},
   "outputs": [
    {
     "name": "stdout",
     "output_type": "stream",
     "text": [
      "categorical    continuous\n",
      "-------------  --------------\n",
      "Trooms         Id\n",
      "Nbedrooms      Area(total)\n",
      "Nbwashrooms    Roof(Area)\n",
      "Twashrooms     Lawn(Area)\n",
      "roof           API\n",
      "Nfloors        Expected price\n",
      "ANB\n",
      "Grade\n"
     ]
    }
   ],
   "source": [
    "\n",
    "def seprate_data_types(df):\n",
    "    categorical = []\n",
    "    continuous = []\n",
    "    for column in df.columns:               \n",
    "        if df[column].nunique() < 50:     # returns no of unique values in column  \n",
    "                                                    \n",
    "            categorical.append(column)\n",
    "        else:\n",
    "            continuous.append(column)\n",
    "            \n",
    "    return categorical, continuous \n",
    "\n",
    "\n",
    "categorical, continuous = seprate_data_types(df)         \n",
    "\n",
    "from tabulate import tabulate\n",
    "table = [categorical, continuous]\n",
    "print(tabulate({\"Categorical\":categorical,\n",
    "                \"continuous\": continuous}, headers = [\"categorical\", \"continuous\"]))"
   ]
  },
  {
   "cell_type": "markdown",
   "id": "94c14944",
   "metadata": {},
   "source": [
    "\n",
    "# $$\\;\\;\\;\\; Univariate \\ Analysis \\ of \\ Categorical \\ Variables$$"
   ]
  },
  {
   "cell_type": "markdown",
   "id": "468fb139",
   "metadata": {},
   "source": [
    "## Level 1 Analysis (Univariate Analysis)"
   ]
  },
  {
   "cell_type": "markdown",
   "id": "3efda12b",
   "metadata": {},
   "source": [
    "### User defined function for level 1 analysis of categorical columns\n",
    "This function will check for the following \\\n",
    "Unique values \\\n",
    "Mode \\\n",
    "Total count of missing values "
   ]
  },
  {
   "cell_type": "code",
   "execution_count": 179,
   "id": "71247218",
   "metadata": {},
   "outputs": [],
   "source": [
    "def info_of_cat(col): \n",
    "    print(f\"Unique values in {col} are: {df[col].unique()}\") # unique: returns the unique values in the col\n",
    "    print(f'No of unique values {col} are {df[col].nunique()}')\n",
    "    print(f\"Mode of {col} is {df[col].mode()[0]}\")  \n",
    "    print(f\"Number of missing values in {col} is {df[col].isnull().sum()}\") # isnull().sum() counts the number of null in dataframe\n",
    "      "
   ]
  },
  {
   "cell_type": "code",
   "execution_count": 155,
   "id": "3fea637c",
   "metadata": {},
   "outputs": [],
   "source": [
    "def visual_of_cat(col):\n",
    "    \n",
    "    fig, ax = plt.subplots(1, 2, figsize = (15, 7))\n",
    "    ax[0].set_title(f\"Count of {col}\")                  \n",
    "    percentage = df[col].value_counts()         # value_counts: returns the count of values in series: return series\n",
    "    labels = list(df[col].value_counts().index)\n",
    "    \n",
    "    \n",
    "    sns.countplot(x = df[col], ax = ax[0])\n",
    "  \n",
    "    \n",
    "    plt.pie(percentage,labels = labels, autopct= \"%0.2f%%\")   \n",
    "    plt.xticks(rotation=90)\n",
    "    plt.show()"
   ]
  },
  {
   "cell_type": "markdown",
   "id": "474e2b10",
   "metadata": {},
   "source": [
    "## analysis of Trooms"
   ]
  },
  {
   "cell_type": "code",
   "execution_count": 156,
   "id": "959e47b5",
   "metadata": {},
   "outputs": [
    {
     "name": "stdout",
     "output_type": "stream",
     "text": [
      "Unique values in Trooms are: [6 5 7 8 9]\n",
      "No of unique values Trooms are 5\n",
      "Mode of Trooms is 9\n",
      "Number of missing values in Trooms is 0\n"
     ]
    }
   ],
   "source": [
    "info_of_cat('Trooms')"
   ]
  },
  {
   "cell_type": "code",
   "execution_count": 157,
   "id": "a8e5f0f5",
   "metadata": {},
   "outputs": [
    {
     "data": {
      "image/png": "[encoded data removed]",
      "text/plain": [
       "<Figure size 1080x504 with 2 Axes>"
      ]
     },
     "metadata": {
      "needs_background": "light"
     },
     "output_type": "display_data"
    }
   ],
   "source": [
    "visual_of_cat('Trooms')"
   ]
  },
  {
   "cell_type": "markdown",
   "id": "ac5b175b",
   "metadata": {},
   "source": [
    "## ***Interpretation: \n",
    "### The dataset indicates that about same no of houses have 5,6,7,8 and 9 rooms i.e. 20%"
   ]
  },
  {
   "cell_type": "markdown",
   "id": "d3e358d1",
   "metadata": {},
   "source": [
    "## analysis of Nbedrooms"
   ]
  },
  {
   "cell_type": "code",
   "execution_count": 13,
   "id": "aaa41edf",
   "metadata": {},
   "outputs": [
    {
     "name": "stdout",
     "output_type": "stream",
     "text": [
      "Unique values in Nbedrooms are: [5 4 7 8 6 3 2]\n",
      "No of unique values Nbedrooms are 7\n",
      "Mode of Nbedrooms is 4\n",
      "Number of missing values in Nbedrooms is 0\n"
     ]
    }
   ],
   "source": [
    "info_of_cat('Nbedrooms')"
   ]
  },
  {
   "cell_type": "code",
   "execution_count": 14,
   "id": "a6caada6",
   "metadata": {},
   "outputs": [
    {
     "data": {
      "image/png": "[encoded data removed]",
      "text/plain": [
       "<Figure size 1080x504 with 2 Axes>"
      ]
     },
     "metadata": {
      "needs_background": "light"
     },
     "output_type": "display_data"
    }
   ],
   "source": [
    "visual_of_cat('Nbedrooms')"
   ]
  },
  {
   "cell_type": "markdown",
   "id": "04a4c3b5",
   "metadata": {},
   "source": [
    "## ***Interpretation: \n",
    "### The dataset indicates that max houses have 4 ,5 or 6 bedrooms  i.e. about 20% in each category "
   ]
  },
  {
   "cell_type": "markdown",
   "id": "662844c2",
   "metadata": {},
   "source": [
    "## analysis of Nbwashrooms"
   ]
  },
  {
   "cell_type": "code",
   "execution_count": 15,
   "id": "d73c0e27",
   "metadata": {},
   "outputs": [
    {
     "name": "stdout",
     "output_type": "stream",
     "text": [
      "Unique values in Nbwashrooms are: [4 3 6 7 5 2 8 1]\n",
      "No of unique values Nbwashrooms are 8\n",
      "Mode of Nbwashrooms is 4\n",
      "Number of missing values in Nbwashrooms is 0\n"
     ]
    }
   ],
   "source": [
    "info_of_cat('Nbwashrooms')"
   ]
  },
  {
   "cell_type": "code",
   "execution_count": 16,
   "id": "16526bfb",
   "metadata": {},
   "outputs": [
    {
     "data": {
      "image/png": "[encoded data removed]",
      "text/plain": [
       "<Figure size 1080x504 with 2 Axes>"
      ]
     },
     "metadata": {
      "needs_background": "light"
     },
     "output_type": "display_data"
    }
   ],
   "source": [
    "visual_of_cat('Nbwashrooms')"
   ]
  },
  {
   "cell_type": "markdown",
   "id": "c34bf874",
   "metadata": {},
   "source": [
    "## ***Interpretation:  \n",
    "### The dataset indicates that max no of houses have 4, 5 or bedrooms with attached washrooms i.e, about 19% in each category "
   ]
  },
  {
   "cell_type": "markdown",
   "id": "dc73c705",
   "metadata": {},
   "source": [
    "## analysis of Twashrooms"
   ]
  },
  {
   "cell_type": "code",
   "execution_count": 17,
   "id": "33617ac5",
   "metadata": {},
   "outputs": [
    {
     "name": "stdout",
     "output_type": "stream",
     "text": [
      "Unique values in Twashrooms are: [ 6  4  5  7  9  8  3  2 10]\n",
      "No of unique values Twashrooms are 9\n",
      "Mode of Twashrooms is 5\n",
      "Number of missing values in Twashrooms is 0\n"
     ]
    }
   ],
   "source": [
    "info_of_cat('Twashrooms')"
   ]
  },
  {
   "cell_type": "code",
   "execution_count": 18,
   "id": "90d3ba33",
   "metadata": {},
   "outputs": [
    {
     "data": {
      "image/png": "[encoded data removed]",
      "text/plain": [
       "<Figure size 1080x504 with 2 Axes>"
      ]
     },
     "metadata": {
      "needs_background": "light"
     },
     "output_type": "display_data"
    }
   ],
   "source": [
    "visual_of_cat('Twashrooms')"
   ]
  },
  {
   "cell_type": "markdown",
   "id": "70ff1e91",
   "metadata": {},
   "source": [
    "## ***Interpretation: \n",
    "### The dataset indicates that max no of houses have 5,6 or 7 washrooms i.e. about 19% in each category "
   ]
  },
  {
   "cell_type": "markdown",
   "id": "cfaf7957",
   "metadata": {},
   "source": [
    "## analysis of roof"
   ]
  },
  {
   "cell_type": "code",
   "execution_count": 19,
   "id": "29540a1a",
   "metadata": {},
   "outputs": [
    {
     "name": "stdout",
     "output_type": "stream",
     "text": [
      "Unique values in roof are: ['NO' 'YES']\n",
      "No of unique values roof are 2\n",
      "Mode of roof is YES\n",
      "Number of missing values in roof is 0\n"
     ]
    }
   ],
   "source": [
    "info_of_cat('roof')"
   ]
  },
  {
   "cell_type": "code",
   "execution_count": 20,
   "id": "6328f2ea",
   "metadata": {},
   "outputs": [
    {
     "data": {
      "image/png": "[encoded data removed]",
      "text/plain": [
       "<Figure size 1080x504 with 2 Axes>"
      ]
     },
     "metadata": {
      "needs_background": "light"
     },
     "output_type": "display_data"
    }
   ],
   "source": [
    "visual_of_cat('roof')"
   ]
  },
  {
   "cell_type": "markdown",
   "id": "d56b1cfa",
   "metadata": {},
   "source": [
    "## ***Interpretation: \n",
    "### The dataset indicates that about 51% houses have roof and about 49% doesn't"
   ]
  },
  {
   "cell_type": "markdown",
   "id": "12dcd627",
   "metadata": {},
   "source": [
    "## analysis of Nfloors"
   ]
  },
  {
   "cell_type": "code",
   "execution_count": 21,
   "id": "43159d24",
   "metadata": {},
   "outputs": [
    {
     "name": "stdout",
     "output_type": "stream",
     "text": [
      "Unique values in Nfloors are: [2 3 5 6 1 4 7]\n",
      "No of unique values Nfloors are 7\n",
      "Mode of Nfloors is 3\n",
      "Number of missing values in Nfloors is 0\n"
     ]
    }
   ],
   "source": [
    "info_of_cat('Nfloors')"
   ]
  },
  {
   "cell_type": "code",
   "execution_count": 22,
   "id": "dbbda168",
   "metadata": {},
   "outputs": [
    {
     "data": {
      "image/png": "[encoded data removed]",
      "text/plain": [
       "<Figure size 1080x504 with 2 Axes>"
      ]
     },
     "metadata": {
      "needs_background": "light"
     },
     "output_type": "display_data"
    }
   ],
   "source": [
    "visual_of_cat('Nfloors')"
   ]
  },
  {
   "cell_type": "markdown",
   "id": "2ebeb21c",
   "metadata": {},
   "source": [
    "## ***Interpretation:\n",
    "### The dataset indicates that max no of houses have 3 floors about 21% followed by 5 floors and 4 floors about 20% and 19% respectively"
   ]
  },
  {
   "cell_type": "markdown",
   "id": "835e62cb",
   "metadata": {},
   "source": [
    "## analysis of ANB"
   ]
  },
  {
   "cell_type": "code",
   "execution_count": 23,
   "id": "7a4a0760",
   "metadata": {},
   "outputs": [
    {
     "name": "stdout",
     "output_type": "stream",
     "text": [
      "Unique values in ANB are: [6 4 3 2 1 5]\n",
      "No of unique values ANB are 6\n",
      "Mode of ANB is 5\n",
      "Number of missing values in ANB is 0\n"
     ]
    }
   ],
   "source": [
    "info_of_cat('ANB')"
   ]
  },
  {
   "cell_type": "code",
   "execution_count": 24,
   "id": "f5156cf9",
   "metadata": {},
   "outputs": [
    {
     "data": {
      "image/png": "[encoded data removed]",
      "text/plain": [
       "<Figure size 1080x504 with 2 Axes>"
      ]
     },
     "metadata": {
      "needs_background": "light"
     },
     "output_type": "display_data"
    }
   ],
   "source": [
    "visual_of_cat('ANB')"
   ]
  },
  {
   "cell_type": "markdown",
   "id": "3e02de72",
   "metadata": {},
   "source": [
    "## ***Interpretation:\n",
    "### The dataset indicates that about same no of  houses are having ANB values of 1,2,3,4,5 i.e. about 15-18% in each category"
   ]
  },
  {
   "cell_type": "markdown",
   "id": "9a038dd3",
   "metadata": {},
   "source": [
    "## analysis of Grade"
   ]
  },
  {
   "cell_type": "code",
   "execution_count": 25,
   "id": "43341d92",
   "metadata": {},
   "outputs": [
    {
     "name": "stdout",
     "output_type": "stream",
     "text": [
      "Unique values in Grade are: ['D' 'C' 'B' 'A' 'E']\n",
      "No of unique values Grade are 5\n",
      "Mode of Grade is D\n",
      "Number of missing values in Grade is 0\n"
     ]
    }
   ],
   "source": [
    "info_of_cat('Grade')"
   ]
  },
  {
   "cell_type": "code",
   "execution_count": 26,
   "id": "5f03c068",
   "metadata": {},
   "outputs": [
    {
     "data": {
      "image/png": "[encoded data removed]",
      "text/plain": [
       "<Figure size 1080x504 with 2 Axes>"
      ]
     },
     "metadata": {
      "needs_background": "light"
     },
     "output_type": "display_data"
    }
   ],
   "source": [
    "visual_of_cat('Grade')"
   ]
  },
  {
   "cell_type": "markdown",
   "id": "22839755",
   "metadata": {},
   "source": [
    "## ***Interpretation:\n",
    "### Grade is our target variable and the dataset indicates that majority of house are of D grade about 42% \n",
    "### and min no of houses have E grade about 2.5% .\n",
    "### About 13% of houses have best grade i.e. A"
   ]
  },
  {
   "cell_type": "markdown",
   "id": "e36a146c",
   "metadata": {},
   "source": [
    "# $$\\;\\;\\;\\;\\;\\;Univariate \\ Analysis \\ of \\ Numerical \\ Variables$$"
   ]
  },
  {
   "cell_type": "markdown",
   "id": "84eecf95",
   "metadata": {},
   "source": [
    "LEVEL 1 Analysis of Numerical Columns\n",
    "----------------------------------------------------------\n",
    "Check if the data is discrete or continuous. \\\n",
    "Measure the central tendency (mean, median, mode) \\\n",
    "Measure the dispersion values \\\n",
    "Check for missing values \\\n",
    "Checking for skewness\\\n",
    "Check for outliers \\\n",
    "Think about how the missing values could be treated. \\\n",
    "Think about the kind of graph/chart that can be plotted using this data."
   ]
  },
  {
   "cell_type": "markdown",
   "id": "988442af",
   "metadata": {},
   "source": [
    "## User defined function for calculating mean, median, mode,  standard deviation, and count of all null values"
   ]
  },
  {
   "cell_type": "code",
   "execution_count": 27,
   "id": "8925ef28",
   "metadata": {},
   "outputs": [],
   "source": [
    "def info_of_numerical(col):\n",
    "    print(f\"The mean of the {col} is {df[col].mean()}\")\n",
    "    print(f\"The median of the {col} is {df[col].median()}\")\n",
    "    print(f\"The mode of the {col} is {df[col].mode()[0]}\")\n",
    "    print(f\"The standard deviation of the {col} is {df[col].std()}\")\n",
    "    print(f\"Number of missing values in the {col} is {df[col].isnull().sum()}\")"
   ]
  },
  {
   "cell_type": "code",
   "execution_count": 273,
   "id": "f50da8b9",
   "metadata": {},
   "outputs": [],
   "source": [
    "def visual_of_num(col):\n",
    "    fig, ax = plt.subplots(1, 2, figsize= (20, 7))            \n",
    "    sns.histplot(x = df[col], ax =ax[1], palette='blues') \n",
    "    sns.boxplot(x = df[col], ax = ax[0], color = \"c\") \n",
    "    plt.show()"
   ]
  },
  {
   "cell_type": "code",
   "execution_count": 274,
   "id": "e1611c93",
   "metadata": {},
   "outputs": [
    {
     "data": {
      "text/plain": [
       "['Id', 'Area(total)', 'Roof(Area)', 'Lawn(Area)', 'API', 'Expected price']"
      ]
     },
     "execution_count": 274,
     "metadata": {},
     "output_type": "execute_result"
    }
   ],
   "source": [
    "continuous"
   ]
  },
  {
   "cell_type": "markdown",
   "id": "dec1a0f7",
   "metadata": {},
   "source": [
    "## analysis of Area(total)"
   ]
  },
  {
   "cell_type": "code",
   "execution_count": 275,
   "id": "82034c7e",
   "metadata": {},
   "outputs": [
    {
     "name": "stdout",
     "output_type": "stream",
     "text": [
      "The mean of the Area(total) is 325.117\n",
      "The median of the Area(total) is 325.0\n",
      "The mode of the Area(total) is 344\n",
      "The standard deviation of the Area(total) is 20.50774244442138\n",
      "Number of missing values in the Area(total) is 0\n"
     ]
    }
   ],
   "source": [
    "info_of_numerical('Area(total)')"
   ]
  },
  {
   "cell_type": "code",
   "execution_count": 276,
   "id": "a297f8c5",
   "metadata": {},
   "outputs": [
    {
     "data": {
      "image/png": "[encoded data removed]",
      "text/plain": [
       "<Figure size 1440x504 with 2 Axes>"
      ]
     },
     "metadata": {
      "needs_background": "light"
     },
     "output_type": "display_data"
    }
   ],
   "source": [
    "visual_of_num('Area(total)')"
   ]
  },
  {
   "cell_type": "markdown",
   "id": "2c44d2ba",
   "metadata": {},
   "source": [
    "## ***Interpretation: \n",
    "### The dataset indicates that there are no outliers and max no of houses have area between 300 and 350"
   ]
  },
  {
   "cell_type": "markdown",
   "id": "ddb0049f",
   "metadata": {},
   "source": [
    "## analysis of Roof(Area)"
   ]
  },
  {
   "cell_type": "code",
   "execution_count": 277,
   "id": "d0234f3e",
   "metadata": {},
   "outputs": [
    {
     "name": "stdout",
     "output_type": "stream",
     "text": [
      "The mean of the Roof(Area) is 48.980666666666664\n",
      "The median of the Roof(Area) is 71.0\n",
      "The mode of the Roof(Area) is 0\n",
      "The standard deviation of the Roof(Area) is 48.74664129867301\n",
      "Number of missing values in the Roof(Area) is 0\n"
     ]
    }
   ],
   "source": [
    "info_of_numerical('Roof(Area)')"
   ]
  },
  {
   "cell_type": "code",
   "execution_count": 278,
   "id": "415ceec6",
   "metadata": {},
   "outputs": [
    {
     "data": {
      "image/png": "[encoded data removed]",
      "text/plain": [
       "<Figure size 1440x504 with 2 Axes>"
      ]
     },
     "metadata": {
      "needs_background": "light"
     },
     "output_type": "display_data"
    }
   ],
   "source": [
    "visual_of_num('Roof(Area)')"
   ]
  },
  {
   "cell_type": "markdown",
   "id": "173e2f31",
   "metadata": {},
   "source": [
    "## ***Interpretation: \n",
    "### The dataset indicates that about 49% of houses don't have roof \n",
    "## we can seperate those houses to get a clear picture"
   ]
  },
  {
   "cell_type": "code",
   "execution_count": 279,
   "id": "42adb0e4",
   "metadata": {},
   "outputs": [
    {
     "data": {
      "text/html": [
       "<div>\n",
       "<style scoped>\n",
       "    .dataframe tbody tr th:only-of-type {\n",
       "        vertical-align: middle;\n",
       "    }\n",
       "\n",
       "    .dataframe tbody tr th {\n",
       "        vertical-align: top;\n",
       "    }\n",
       "\n",
       "    .dataframe thead th {\n",
       "        text-align: right;\n",
       "    }\n",
       "</style>\n",
       "<table border=\"1\" class=\"dataframe\">\n",
       "  <thead>\n",
       "    <tr style=\"text-align: right;\">\n",
       "      <th></th>\n",
       "      <th>Id</th>\n",
       "      <th>Area(total)</th>\n",
       "      <th>Trooms</th>\n",
       "      <th>Nbedrooms</th>\n",
       "      <th>Nbwashrooms</th>\n",
       "      <th>Twashrooms</th>\n",
       "      <th>roof</th>\n",
       "      <th>Roof(Area)</th>\n",
       "      <th>Lawn(Area)</th>\n",
       "      <th>Nfloors</th>\n",
       "      <th>API</th>\n",
       "      <th>ANB</th>\n",
       "      <th>Expected price</th>\n",
       "      <th>Grade</th>\n",
       "    </tr>\n",
       "  </thead>\n",
       "  <tbody>\n",
       "    <tr>\n",
       "      <th>1</th>\n",
       "      <td>2</td>\n",
       "      <td>358</td>\n",
       "      <td>5</td>\n",
       "      <td>4</td>\n",
       "      <td>3</td>\n",
       "      <td>4</td>\n",
       "      <td>YES</td>\n",
       "      <td>71</td>\n",
       "      <td>96</td>\n",
       "      <td>3</td>\n",
       "      <td>72</td>\n",
       "      <td>4</td>\n",
       "      <td>3510</td>\n",
       "      <td>D</td>\n",
       "    </tr>\n",
       "    <tr>\n",
       "      <th>2</th>\n",
       "      <td>3</td>\n",
       "      <td>324</td>\n",
       "      <td>7</td>\n",
       "      <td>5</td>\n",
       "      <td>4</td>\n",
       "      <td>5</td>\n",
       "      <td>YES</td>\n",
       "      <td>101</td>\n",
       "      <td>117</td>\n",
       "      <td>5</td>\n",
       "      <td>64</td>\n",
       "      <td>3</td>\n",
       "      <td>3748</td>\n",
       "      <td>C</td>\n",
       "    </tr>\n",
       "    <tr>\n",
       "      <th>3</th>\n",
       "      <td>4</td>\n",
       "      <td>330</td>\n",
       "      <td>6</td>\n",
       "      <td>4</td>\n",
       "      <td>3</td>\n",
       "      <td>5</td>\n",
       "      <td>YES</td>\n",
       "      <td>101</td>\n",
       "      <td>82</td>\n",
       "      <td>2</td>\n",
       "      <td>59</td>\n",
       "      <td>2</td>\n",
       "      <td>3134</td>\n",
       "      <td>D</td>\n",
       "    </tr>\n",
       "    <tr>\n",
       "      <th>5</th>\n",
       "      <td>6</td>\n",
       "      <td>314</td>\n",
       "      <td>8</td>\n",
       "      <td>7</td>\n",
       "      <td>6</td>\n",
       "      <td>7</td>\n",
       "      <td>YES</td>\n",
       "      <td>81</td>\n",
       "      <td>93</td>\n",
       "      <td>6</td>\n",
       "      <td>93</td>\n",
       "      <td>1</td>\n",
       "      <td>4012</td>\n",
       "      <td>B</td>\n",
       "    </tr>\n",
       "    <tr>\n",
       "      <th>6</th>\n",
       "      <td>7</td>\n",
       "      <td>332</td>\n",
       "      <td>9</td>\n",
       "      <td>8</td>\n",
       "      <td>7</td>\n",
       "      <td>9</td>\n",
       "      <td>YES</td>\n",
       "      <td>103</td>\n",
       "      <td>120</td>\n",
       "      <td>6</td>\n",
       "      <td>87</td>\n",
       "      <td>4</td>\n",
       "      <td>4503</td>\n",
       "      <td>A</td>\n",
       "    </tr>\n",
       "    <tr>\n",
       "      <th>...</th>\n",
       "      <td>...</td>\n",
       "      <td>...</td>\n",
       "      <td>...</td>\n",
       "      <td>...</td>\n",
       "      <td>...</td>\n",
       "      <td>...</td>\n",
       "      <td>...</td>\n",
       "      <td>...</td>\n",
       "      <td>...</td>\n",
       "      <td>...</td>\n",
       "      <td>...</td>\n",
       "      <td>...</td>\n",
       "      <td>...</td>\n",
       "      <td>...</td>\n",
       "    </tr>\n",
       "    <tr>\n",
       "      <th>2988</th>\n",
       "      <td>2989</td>\n",
       "      <td>290</td>\n",
       "      <td>5</td>\n",
       "      <td>3</td>\n",
       "      <td>2</td>\n",
       "      <td>3</td>\n",
       "      <td>YES</td>\n",
       "      <td>90</td>\n",
       "      <td>79</td>\n",
       "      <td>1</td>\n",
       "      <td>89</td>\n",
       "      <td>2</td>\n",
       "      <td>2961</td>\n",
       "      <td>D</td>\n",
       "    </tr>\n",
       "    <tr>\n",
       "      <th>2990</th>\n",
       "      <td>2991</td>\n",
       "      <td>298</td>\n",
       "      <td>6</td>\n",
       "      <td>4</td>\n",
       "      <td>3</td>\n",
       "      <td>4</td>\n",
       "      <td>YES</td>\n",
       "      <td>83</td>\n",
       "      <td>109</td>\n",
       "      <td>4</td>\n",
       "      <td>58</td>\n",
       "      <td>5</td>\n",
       "      <td>2849</td>\n",
       "      <td>D</td>\n",
       "    </tr>\n",
       "    <tr>\n",
       "      <th>2991</th>\n",
       "      <td>2992</td>\n",
       "      <td>325</td>\n",
       "      <td>7</td>\n",
       "      <td>4</td>\n",
       "      <td>3</td>\n",
       "      <td>4</td>\n",
       "      <td>YES</td>\n",
       "      <td>100</td>\n",
       "      <td>76</td>\n",
       "      <td>3</td>\n",
       "      <td>81</td>\n",
       "      <td>1</td>\n",
       "      <td>3495</td>\n",
       "      <td>D</td>\n",
       "    </tr>\n",
       "    <tr>\n",
       "      <th>2995</th>\n",
       "      <td>2996</td>\n",
       "      <td>341</td>\n",
       "      <td>9</td>\n",
       "      <td>6</td>\n",
       "      <td>5</td>\n",
       "      <td>7</td>\n",
       "      <td>YES</td>\n",
       "      <td>95</td>\n",
       "      <td>115</td>\n",
       "      <td>5</td>\n",
       "      <td>90</td>\n",
       "      <td>2</td>\n",
       "      <td>4246</td>\n",
       "      <td>B</td>\n",
       "    </tr>\n",
       "    <tr>\n",
       "      <th>2996</th>\n",
       "      <td>2997</td>\n",
       "      <td>292</td>\n",
       "      <td>9</td>\n",
       "      <td>8</td>\n",
       "      <td>7</td>\n",
       "      <td>8</td>\n",
       "      <td>YES</td>\n",
       "      <td>116</td>\n",
       "      <td>87</td>\n",
       "      <td>7</td>\n",
       "      <td>97</td>\n",
       "      <td>4</td>\n",
       "      <td>3753</td>\n",
       "      <td>A</td>\n",
       "    </tr>\n",
       "  </tbody>\n",
       "</table>\n",
       "<p>1543 rows × 14 columns</p>\n",
       "</div>"
      ],
      "text/plain": [
       "        Id  Area(total)  Trooms  Nbedrooms  Nbwashrooms  Twashrooms roof  \\\n",
       "1        2          358       5          4            3           4  YES   \n",
       "2        3          324       7          5            4           5  YES   \n",
       "3        4          330       6          4            3           5  YES   \n",
       "5        6          314       8          7            6           7  YES   \n",
       "6        7          332       9          8            7           9  YES   \n",
       "...    ...          ...     ...        ...          ...         ...  ...   \n",
       "2988  2989          290       5          3            2           3  YES   \n",
       "2990  2991          298       6          4            3           4  YES   \n",
       "2991  2992          325       7          4            3           4  YES   \n",
       "2995  2996          341       9          6            5           7  YES   \n",
       "2996  2997          292       9          8            7           8  YES   \n",
       "\n",
       "      Roof(Area)  Lawn(Area)  Nfloors  API  ANB  Expected price Grade  \n",
       "1             71          96        3   72    4            3510     D  \n",
       "2            101         117        5   64    3            3748     C  \n",
       "3            101          82        2   59    2            3134     D  \n",
       "5             81          93        6   93    1            4012     B  \n",
       "6            103         120        6   87    4            4503     A  \n",
       "...          ...         ...      ...  ...  ...             ...   ...  \n",
       "2988          90          79        1   89    2            2961     D  \n",
       "2990          83         109        4   58    5            2849     D  \n",
       "2991         100          76        3   81    1            3495     D  \n",
       "2995          95         115        5   90    2            4246     B  \n",
       "2996         116          87        7   97    4            3753     A  \n",
       "\n",
       "[1543 rows x 14 columns]"
      ]
     },
     "execution_count": 279,
     "metadata": {},
     "output_type": "execute_result"
    }
   ],
   "source": [
    "a=df[df['Roof(Area)']!=0]\n",
    "a"
   ]
  },
  {
   "cell_type": "code",
   "execution_count": 280,
   "id": "b0c1d6f5",
   "metadata": {},
   "outputs": [
    {
     "name": "stdout",
     "output_type": "stream",
     "text": [
      "The mean of the roof area is 95.23136746597537\n",
      "The median of the roof area is 96.0\n",
      "The mode of the roof area is 116\n",
      "The standard deviation of the roof area is 14.632515402807202\n",
      "Number of missing values in the roof area is 0\n"
     ]
    }
   ],
   "source": [
    "print(f\"The mean of the roof area is {a['Roof(Area)'].mean()}\")\n",
    "print(f\"The median of the roof area is {a['Roof(Area)'].median()}\")\n",
    "print(f\"The mode of the roof area is {a['Roof(Area)'].mode()[0]}\")\n",
    "print(f\"The standard deviation of the roof area is {a['Roof(Area)'].std()}\")\n",
    "print(f\"Number of missing values in the roof area is {a['Roof(Area)'].isnull().sum()}\")"
   ]
  },
  {
   "cell_type": "code",
   "execution_count": 281,
   "id": "c4f1aa8d",
   "metadata": {},
   "outputs": [
    {
     "data": {
      "image/png": "[encoded data removed]",
      "text/plain": [
       "<Figure size 1440x504 with 2 Axes>"
      ]
     },
     "metadata": {
      "needs_background": "light"
     },
     "output_type": "display_data"
    }
   ],
   "source": [
    "fig, ax = plt.subplots(1, 2, figsize= (20, 7))            \n",
    "sns.histplot(x = a['Roof(Area)'], ax =ax[1], color = \"m\") \n",
    "sns.boxplot(x = a['Roof(Area)'], ax = ax[0], color = \"g\") \n",
    "plt.show()"
   ]
  },
  {
   "cell_type": "markdown",
   "id": "ccfdba55",
   "metadata": {},
   "source": [
    "## ***Interpretation: \n",
    "### The dataset indicates that there are no outliers and max no of houses having roof have roof area between 83 and 108"
   ]
  },
  {
   "cell_type": "markdown",
   "id": "3ee2406e",
   "metadata": {},
   "source": [
    "## analysis of Lawn(Area)"
   ]
  },
  {
   "cell_type": "code",
   "execution_count": 282,
   "id": "0c9d4ddb",
   "metadata": {},
   "outputs": [
    {
     "name": "stdout",
     "output_type": "stream",
     "text": [
      "The mean of the Lawn(Area) is 95.60933333333334\n",
      "The median of the Lawn(Area) is 96.0\n",
      "The mode of the Lawn(Area) is 101\n",
      "The standard deviation of the Lawn(Area) is 14.83738843555081\n",
      "Number of missing values in the Lawn(Area) is 0\n"
     ]
    }
   ],
   "source": [
    "info_of_numerical('Lawn(Area)')"
   ]
  },
  {
   "cell_type": "code",
   "execution_count": 283,
   "id": "0a9f73a0",
   "metadata": {},
   "outputs": [
    {
     "data": {
      "image/png": "[encoded data removed]",
      "text/plain": [
       "<Figure size 1440x504 with 2 Axes>"
      ]
     },
     "metadata": {
      "needs_background": "light"
     },
     "output_type": "display_data"
    }
   ],
   "source": [
    "visual_of_num('Lawn(Area)')"
   ]
  },
  {
   "cell_type": "markdown",
   "id": "f4e0e8bf",
   "metadata": {},
   "source": [
    "## ***Interpretation: \n",
    "### The dataset indicates that majority of houses have lawn area between 83 to 109"
   ]
  },
  {
   "cell_type": "markdown",
   "id": "492857e7",
   "metadata": {},
   "source": [
    "## analysis of API"
   ]
  },
  {
   "cell_type": "code",
   "execution_count": 284,
   "id": "c96eb31a",
   "metadata": {},
   "outputs": [
    {
     "name": "stdout",
     "output_type": "stream",
     "text": [
      "The mean of the API is 70.19066666666667\n",
      "The median of the API is 70.0\n",
      "The mode of the API is 77\n",
      "The standard deviation of the API is 17.563460306410814\n",
      "Number of missing values in the API is 0\n"
     ]
    }
   ],
   "source": [
    "info_of_numerical('API')"
   ]
  },
  {
   "cell_type": "code",
   "execution_count": 285,
   "id": "2f68a3bd",
   "metadata": {},
   "outputs": [
    {
     "data": {
      "image/png": "[encoded data removed]",
      "text/plain": [
       "<Figure size 1440x504 with 2 Axes>"
      ]
     },
     "metadata": {
      "needs_background": "light"
     },
     "output_type": "display_data"
    }
   ],
   "source": [
    "visual_of_num('API')"
   ]
  },
  {
   "cell_type": "markdown",
   "id": "a92a4d5d",
   "metadata": {},
   "source": [
    "## ***Interpretation:\n",
    "### The dataset indicates that majority of houses are located in areas having API values between 55 and 85"
   ]
  },
  {
   "cell_type": "markdown",
   "id": "e33cedb9",
   "metadata": {},
   "source": [
    "## analysis  of Expected price"
   ]
  },
  {
   "cell_type": "code",
   "execution_count": 286,
   "id": "58d12485",
   "metadata": {},
   "outputs": [
    {
     "name": "stdout",
     "output_type": "stream",
     "text": [
      "The mean of the Expected price is 3782.9383333333335\n",
      "The median of the Expected price is 3771.0\n",
      "The mode of the Expected price is 3335\n",
      "The standard deviation of the Expected price is 567.1899952345067\n",
      "Number of missing values in the Expected price is 0\n"
     ]
    }
   ],
   "source": [
    "info_of_numerical('Expected price')"
   ]
  },
  {
   "cell_type": "code",
   "execution_count": 287,
   "id": "0c3bf318",
   "metadata": {},
   "outputs": [
    {
     "data": {
      "image/png": "[encoded data removed]",
      "text/plain": [
       "<Figure size 1440x504 with 2 Axes>"
      ]
     },
     "metadata": {
      "needs_background": "light"
     },
     "output_type": "display_data"
    }
   ],
   "source": [
    "visual_of_num('Expected price')"
   ]
  },
  {
   "cell_type": "markdown",
   "id": "190833b4",
   "metadata": {},
   "source": [
    "## ***Interpretation: \n",
    "### The dataset indicates that it is following normal distribution and majority of houses have price between 3200 and 4300"
   ]
  },
  {
   "cell_type": "markdown",
   "id": "e8ac88eb",
   "metadata": {},
   "source": [
    "# level 2 analysis"
   ]
  },
  {
   "cell_type": "code",
   "execution_count": 43,
   "id": "ea3902b9",
   "metadata": {},
   "outputs": [
    {
     "name": "stdout",
     "output_type": "stream",
     "text": [
      "categorical    continuous\n",
      "-------------  --------------\n",
      "Trooms         Id\n",
      "Nbedrooms      Area(total)\n",
      "Nbwashrooms    Roof(Area)\n",
      "Twashrooms     Lawn(Area)\n",
      "roof           API\n",
      "Nfloors        Expected price\n",
      "ANB\n",
      "Grade\n"
     ]
    }
   ],
   "source": [
    "print(tabulate({\"Categorical\":categorical,\n",
    "                \"continuous\": continuous}, headers = [\"categorical\", \"continuous\"]))"
   ]
  },
  {
   "cell_type": "markdown",
   "id": "e2875e8d",
   "metadata": {},
   "source": [
    "## relationship of price with grade"
   ]
  },
  {
   "cell_type": "code",
   "execution_count": 135,
   "id": "722e8a45",
   "metadata": {},
   "outputs": [
    {
     "data": {
      "image/png": "[encoded data removed]",
      "text/plain": [
       "<Figure size 1152x648 with 1 Axes>"
      ]
     },
     "metadata": {
      "needs_background": "light"
     },
     "output_type": "display_data"
    }
   ],
   "source": [
    "fig, ax = plt.subplots(figsize = (16, 9))\n",
    "sns.boxplot( x = \"Expected price\",y= 'Grade', data = df,palette='Set2')\n",
    "plt.show()"
   ]
  },
  {
   "cell_type": "code",
   "execution_count": 136,
   "id": "59e2a93d",
   "metadata": {},
   "outputs": [
    {
     "data": {
      "image/png": "[encoded data removed]",
      "text/plain": [
       "<Figure size 1152x648 with 1 Axes>"
      ]
     },
     "metadata": {
      "needs_background": "light"
     },
     "output_type": "display_data"
    }
   ],
   "source": [
    "fig, ax = plt.subplots(figsize = (16, 9))\n",
    "sns.histplot( x = \"Expected price\",hue= 'Grade',kde=True, data = df,palette='Set2')\n",
    "plt.show()"
   ]
  },
  {
   "cell_type": "markdown",
   "id": "accfe91a",
   "metadata": {},
   "source": [
    "## ***Interpretation: \n",
    "### The dataset indicates that E grade houses have lowest price and A grade houses have highest price"
   ]
  },
  {
   "cell_type": "markdown",
   "id": "52f2b76f",
   "metadata": {},
   "source": [
    "## analysis of Nbedrooms with Grade"
   ]
  },
  {
   "cell_type": "code",
   "execution_count": 134,
   "id": "178bb20c",
   "metadata": {},
   "outputs": [
    {
     "data": {
      "image/png": "[encoded data removed]",
      "text/plain": [
       "<Figure size 1152x648 with 1 Axes>"
      ]
     },
     "metadata": {
      "needs_background": "light"
     },
     "output_type": "display_data"
    }
   ],
   "source": [
    "fig, ax = plt.subplots(figsize = (16, 9))\n",
    "sns.boxplot( x = 'Nbedrooms',y= 'Grade', data = df,palette='Set2')\n",
    "plt.show()"
   ]
  },
  {
   "cell_type": "markdown",
   "id": "14f07615",
   "metadata": {},
   "source": [
    "## interpretation:\n",
    "### we can see that as no of bedrooms increase prices also increses\n",
    "### A grade houses have generally more than 6 bedrooms and\n",
    "### E grade has least no of bedrooms about 2 or 3"
   ]
  },
  {
   "cell_type": "markdown",
   "id": "583e51c1",
   "metadata": {},
   "source": [
    "## analysis of Nbwashrooms with grade"
   ]
  },
  {
   "cell_type": "code",
   "execution_count": 132,
   "id": "b3cf56c1",
   "metadata": {},
   "outputs": [
    {
     "data": {
      "image/png": "[encoded data removed]",
      "text/plain": [
       "<Figure size 1152x648 with 1 Axes>"
      ]
     },
     "metadata": {
      "needs_background": "light"
     },
     "output_type": "display_data"
    }
   ],
   "source": [
    "fig, ax = plt.subplots(figsize = (16, 9))\n",
    "sns.boxplot( x = 'Nbwashrooms',y= 'Grade', data = df,palette='Set2')\n",
    "plt.show()"
   ]
  },
  {
   "cell_type": "markdown",
   "id": "15f0d070",
   "metadata": {},
   "source": [
    "## interpretation: \n",
    "### we can see that as no of washrooms increase prices also increses\n",
    "### A grade houses have generally more than 6 washrooms and\n",
    "### E grade has least no of washrooms about 1 or 2"
   ]
  },
  {
   "cell_type": "markdown",
   "id": "febe47cc",
   "metadata": {},
   "source": [
    "## analysis of roof with grade"
   ]
  },
  {
   "cell_type": "code",
   "execution_count": 133,
   "id": "43b36bb1",
   "metadata": {},
   "outputs": [
    {
     "data": {
      "image/png": "[encoded data removed]",
      "text/plain": [
       "<Figure size 1152x648 with 1 Axes>"
      ]
     },
     "metadata": {
      "needs_background": "light"
     },
     "output_type": "display_data"
    }
   ],
   "source": [
    "fig, ax = plt.subplots(figsize = (16, 9))\n",
    "sns.countplot( x = 'roof',hue= 'Grade', data = df,palette='Set2')\n",
    "plt.show()"
   ]
  },
  {
   "cell_type": "markdown",
   "id": "76ab3d7f",
   "metadata": {},
   "source": [
    "## interpretation:\n",
    "### we can see that majority of houses of A,B and C grade have roofs whereas majority of D and E grade houses are not having roofs"
   ]
  },
  {
   "cell_type": "markdown",
   "id": "8c6942ce",
   "metadata": {},
   "source": [
    "## analysis of Nfloors with grade"
   ]
  },
  {
   "cell_type": "code",
   "execution_count": 159,
   "id": "0ebb662a",
   "metadata": {},
   "outputs": [
    {
     "data": {
      "image/png": "[encoded data removed]",
      "text/plain": [
       "<Figure size 1152x648 with 1 Axes>"
      ]
     },
     "metadata": {
      "needs_background": "light"
     },
     "output_type": "display_data"
    }
   ],
   "source": [
    "fig, ax = plt.subplots(figsize = (16, 9))\n",
    "sns.countplot( x = 'Nfloors',hue= 'Grade', data = df,palette='Set2')\n",
    "plt.show()"
   ]
  },
  {
   "cell_type": "markdown",
   "id": "4eb8c0de",
   "metadata": {},
   "source": [
    "## interpretation :\n",
    "### A grade houses have min 5 floors and E grade houses have max 3 floors"
   ]
  },
  {
   "cell_type": "markdown",
   "id": "5a02f6ba",
   "metadata": {},
   "source": [
    "## analysis of grade with Area(total)"
   ]
  },
  {
   "cell_type": "code",
   "execution_count": 160,
   "id": "b22df422",
   "metadata": {},
   "outputs": [
    {
     "data": {
      "image/png": "[encoded data removed]",
      "text/plain": [
       "<Figure size 1152x648 with 1 Axes>"
      ]
     },
     "metadata": {
      "needs_background": "light"
     },
     "output_type": "display_data"
    }
   ],
   "source": [
    "fig, ax = plt.subplots(figsize = (16, 9))\n",
    "sns.boxplot( x = 'Area(total)',y= 'Grade', data = df,palette='Set2')\n",
    "plt.show()"
   ]
  },
  {
   "cell_type": "markdown",
   "id": "fa2fd8d4",
   "metadata": {},
   "source": [
    "## interpretation:\n",
    "### generally higher the area of house higher is the grade of that house"
   ]
  },
  {
   "cell_type": "markdown",
   "id": "87c0dc4c",
   "metadata": {},
   "source": [
    "## analysis of grade with roof area"
   ]
  },
  {
   "cell_type": "code",
   "execution_count": 161,
   "id": "57f5eab8",
   "metadata": {},
   "outputs": [
    {
     "data": {
      "image/png": "[encoded data removed]",
      "text/plain": [
       "<Figure size 1152x648 with 1 Axes>"
      ]
     },
     "metadata": {
      "needs_background": "light"
     },
     "output_type": "display_data"
    }
   ],
   "source": [
    "fig, ax = plt.subplots(figsize = (16, 9))\n",
    "sns.boxplot( x = 'Roof(Area)',y= 'Grade', data = a,palette='Set2')\n",
    "plt.show()"
   ]
  },
  {
   "cell_type": "markdown",
   "id": "199b6e8c",
   "metadata": {},
   "source": [
    "## interpretation:\n",
    "### apart from E grade houses other grades houses have somewhat similar roof area"
   ]
  },
  {
   "cell_type": "markdown",
   "id": "378c4182",
   "metadata": {},
   "source": [
    "## analysis of lawn area with grade"
   ]
  },
  {
   "cell_type": "code",
   "execution_count": 162,
   "id": "8bf42601",
   "metadata": {},
   "outputs": [
    {
     "data": {
      "image/png": "[encoded data removed]",
      "text/plain": [
       "<Figure size 1152x648 with 1 Axes>"
      ]
     },
     "metadata": {
      "needs_background": "light"
     },
     "output_type": "display_data"
    }
   ],
   "source": [
    "fig, ax = plt.subplots(figsize = (16, 9))\n",
    "sns.boxplot( x = 'Lawn(Area)',y= 'Grade', data = df,palette='Set2')\n",
    "plt.show()"
   ]
  },
  {
   "cell_type": "markdown",
   "id": "ccbe207e",
   "metadata": {},
   "source": [
    "## interpretation:\n",
    "### apart from E grade houses other grades houses have somewhat similar lawn area"
   ]
  },
  {
   "cell_type": "markdown",
   "id": "727d98de",
   "metadata": {},
   "source": [
    "## analysis of api with grade"
   ]
  },
  {
   "cell_type": "code",
   "execution_count": 163,
   "id": "8b1b7b40",
   "metadata": {},
   "outputs": [
    {
     "data": {
      "image/png": "[encoded data removed]",
      "text/plain": [
       "<Figure size 1152x648 with 1 Axes>"
      ]
     },
     "metadata": {
      "needs_background": "light"
     },
     "output_type": "display_data"
    }
   ],
   "source": [
    "fig, ax = plt.subplots(figsize = (16, 9))\n",
    "sns.boxplot( x = 'API',y= 'Grade', data = df,palette='Set2')\n",
    "plt.show()"
   ]
  },
  {
   "cell_type": "markdown",
   "id": "03b839dd",
   "metadata": {},
   "source": [
    "## interpretation: \n",
    "### apart from E grade houses other grades houses are located in areas having somewhat similar api level "
   ]
  },
  {
   "cell_type": "markdown",
   "id": "5dc5cfbd",
   "metadata": {},
   "source": [
    "## feature engineering"
   ]
  },
  {
   "cell_type": "code",
   "execution_count": 60,
   "id": "df109c9d",
   "metadata": {},
   "outputs": [
    {
     "data": {
      "text/plain": [
       "Id                 int64\n",
       "Area(total)        int64\n",
       "Trooms             int64\n",
       "Nbedrooms          int64\n",
       "Nbwashrooms        int64\n",
       "Twashrooms         int64\n",
       "roof              object\n",
       "Roof(Area)         int64\n",
       "Lawn(Area)         int64\n",
       "Nfloors            int64\n",
       "API                int64\n",
       "ANB                int64\n",
       "Expected price     int64\n",
       "Grade             object\n",
       "dtype: object"
      ]
     },
     "execution_count": 60,
     "metadata": {},
     "output_type": "execute_result"
    }
   ],
   "source": [
    "df.dtypes"
   ]
  },
  {
   "cell_type": "markdown",
   "id": "729ed436",
   "metadata": {},
   "source": [
    "### converting roof and grade columns"
   ]
  },
  {
   "cell_type": "code",
   "execution_count": 61,
   "id": "8412086f",
   "metadata": {},
   "outputs": [],
   "source": [
    "dfc=df.copy()\n",
    "dfc['Grade']=dfc['Grade'].astype('category')\n",
    "dfc['roof']=dfc['roof'].astype('category')"
   ]
  },
  {
   "cell_type": "markdown",
   "id": "11affe7b",
   "metadata": {},
   "source": [
    "## label encoder"
   ]
  },
  {
   "cell_type": "code",
   "execution_count": 63,
   "id": "b8ea9dce",
   "metadata": {},
   "outputs": [],
   "source": [
    "encoder=LabelEncoder()\n",
    "dfc['Grade']=encoder.fit_transform(dfc['Grade'])\n",
    "dfc['roof']=encoder.fit_transform(dfc['roof'])"
   ]
  },
  {
   "cell_type": "code",
   "execution_count": 64,
   "id": "de3e8eb6",
   "metadata": {},
   "outputs": [
    {
     "data": {
      "text/plain": [
       "Id                int64\n",
       "Area(total)       int64\n",
       "Trooms            int64\n",
       "Nbedrooms         int64\n",
       "Nbwashrooms       int64\n",
       "Twashrooms        int64\n",
       "roof              int32\n",
       "Roof(Area)        int64\n",
       "Lawn(Area)        int64\n",
       "Nfloors           int64\n",
       "API               int64\n",
       "ANB               int64\n",
       "Expected price    int64\n",
       "Grade             int32\n",
       "dtype: object"
      ]
     },
     "execution_count": 64,
     "metadata": {},
     "output_type": "execute_result"
    }
   ],
   "source": [
    "dfc.dtypes"
   ]
  },
  {
   "cell_type": "markdown",
   "id": "edb6ee9d",
   "metadata": {},
   "source": [
    "## feature selection"
   ]
  },
  {
   "cell_type": "code",
   "execution_count": 65,
   "id": "fd3019d0",
   "metadata": {},
   "outputs": [
    {
     "data": {
      "text/html": [
       "<style type=\"text/css\">\n",
       "#T_57b5e_row0_col0, #T_57b5e_row1_col1, #T_57b5e_row2_col2, #T_57b5e_row3_col3, #T_57b5e_row4_col4, #T_57b5e_row5_col5, #T_57b5e_row6_col6, #T_57b5e_row7_col7, #T_57b5e_row8_col8, #T_57b5e_row9_col9, #T_57b5e_row10_col10, #T_57b5e_row11_col11, #T_57b5e_row12_col12, #T_57b5e_row13_col13 {\n",
       "  background-color: #b40426;\n",
       "  color: #f1f1f1;\n",
       "}\n",
       "#T_57b5e_row0_col1, #T_57b5e_row1_col6, #T_57b5e_row9_col6, #T_57b5e_row12_col7 {\n",
       "  background-color: #6b8df0;\n",
       "  color: #f1f1f1;\n",
       "}\n",
       "#T_57b5e_row0_col2, #T_57b5e_row0_col3, #T_57b5e_row6_col5, #T_57b5e_row7_col5, #T_57b5e_row10_col3, #T_57b5e_row10_col4 {\n",
       "  background-color: #d4dbe6;\n",
       "  color: #000000;\n",
       "}\n",
       "#T_57b5e_row0_col4, #T_57b5e_row10_col5, #T_57b5e_row11_col5 {\n",
       "  background-color: #d2dbe8;\n",
       "  color: #000000;\n",
       "}\n",
       "#T_57b5e_row0_col5, #T_57b5e_row1_col9, #T_57b5e_row11_col9 {\n",
       "  background-color: #cfdaea;\n",
       "  color: #000000;\n",
       "}\n",
       "#T_57b5e_row0_col6, #T_57b5e_row8_col1, #T_57b5e_row10_col1, #T_57b5e_row12_col6 {\n",
       "  background-color: #6a8bef;\n",
       "  color: #f1f1f1;\n",
       "}\n",
       "#T_57b5e_row0_col7, #T_57b5e_row1_col7, #T_57b5e_row9_col7 {\n",
       "  background-color: #6c8ff1;\n",
       "  color: #f1f1f1;\n",
       "}\n",
       "#T_57b5e_row0_col8, #T_57b5e_row2_col8, #T_57b5e_row4_col8, #T_57b5e_row5_col8 {\n",
       "  background-color: #4b64d5;\n",
       "  color: #f1f1f1;\n",
       "}\n",
       "#T_57b5e_row0_col9, #T_57b5e_row0_col12, #T_57b5e_row6_col12, #T_57b5e_row7_col12 {\n",
       "  background-color: #cbd8ee;\n",
       "  color: #000000;\n",
       "}\n",
       "#T_57b5e_row0_col10, #T_57b5e_row9_col10 {\n",
       "  background-color: #5572df;\n",
       "  color: #f1f1f1;\n",
       "}\n",
       "#T_57b5e_row0_col11, #T_57b5e_row1_col11, #T_57b5e_row4_col13, #T_57b5e_row5_col0 {\n",
       "  background-color: #3e51c5;\n",
       "  color: #f1f1f1;\n",
       "}\n",
       "#T_57b5e_row0_col13, #T_57b5e_row8_col3, #T_57b5e_row8_col4, #T_57b5e_row11_col4 {\n",
       "  background-color: #d3dbe7;\n",
       "  color: #000000;\n",
       "}\n",
       "#T_57b5e_row1_col0, #T_57b5e_row2_col0, #T_57b5e_row3_col0, #T_57b5e_row4_col0, #T_57b5e_row8_col0 {\n",
       "  background-color: #3f53c6;\n",
       "  color: #f1f1f1;\n",
       "}\n",
       "#T_57b5e_row1_col2, #T_57b5e_row6_col2, #T_57b5e_row7_col3 {\n",
       "  background-color: #d7dce3;\n",
       "  color: #000000;\n",
       "}\n",
       "#T_57b5e_row1_col3, #T_57b5e_row7_col2 {\n",
       "  background-color: #d8dce2;\n",
       "  color: #000000;\n",
       "}\n",
       "#T_57b5e_row1_col4, #T_57b5e_row6_col3, #T_57b5e_row6_col4, #T_57b5e_row7_col4 {\n",
       "  background-color: #d6dce4;\n",
       "  color: #000000;\n",
       "}\n",
       "#T_57b5e_row1_col5, #T_57b5e_row8_col2, #T_57b5e_row10_col2, #T_57b5e_row11_col2, #T_57b5e_row11_col3 {\n",
       "  background-color: #d5dbe5;\n",
       "  color: #000000;\n",
       "}\n",
       "#T_57b5e_row1_col8, #T_57b5e_row6_col8, #T_57b5e_row9_col11, #T_57b5e_row9_col13 {\n",
       "  background-color: #485fd1;\n",
       "  color: #f1f1f1;\n",
       "}\n",
       "#T_57b5e_row1_col10, #T_57b5e_row3_col10 {\n",
       "  background-color: #5673e0;\n",
       "  color: #f1f1f1;\n",
       "}\n",
       "#T_57b5e_row1_col12 {\n",
       "  background-color: #f0cdbb;\n",
       "  color: #000000;\n",
       "}\n",
       "#T_57b5e_row1_col13 {\n",
       "  background-color: #b7cff9;\n",
       "  color: #000000;\n",
       "}\n",
       "#T_57b5e_row2_col1, #T_57b5e_row2_col6, #T_57b5e_row3_col7, #T_57b5e_row4_col6, #T_57b5e_row5_col6, #T_57b5e_row7_col1, #T_57b5e_row9_col1 {\n",
       "  background-color: #6f92f3;\n",
       "  color: #f1f1f1;\n",
       "}\n",
       "#T_57b5e_row2_col3, #T_57b5e_row3_col2, #T_57b5e_row9_col2 {\n",
       "  background-color: #cd423b;\n",
       "  color: #f1f1f1;\n",
       "}\n",
       "#T_57b5e_row2_col4, #T_57b5e_row4_col2 {\n",
       "  background-color: #d44e41;\n",
       "  color: #f1f1f1;\n",
       "}\n",
       "#T_57b5e_row2_col5, #T_57b5e_row5_col2 {\n",
       "  background-color: #d95847;\n",
       "  color: #f1f1f1;\n",
       "}\n",
       "#T_57b5e_row2_col7, #T_57b5e_row4_col7, #T_57b5e_row5_col7 {\n",
       "  background-color: #7093f3;\n",
       "  color: #f1f1f1;\n",
       "}\n",
       "#T_57b5e_row2_col9 {\n",
       "  background-color: #cf453c;\n",
       "  color: #f1f1f1;\n",
       "}\n",
       "#T_57b5e_row2_col10 {\n",
       "  background-color: #5875e1;\n",
       "  color: #f1f1f1;\n",
       "}\n",
       "#T_57b5e_row2_col11, #T_57b5e_row4_col11 {\n",
       "  background-color: #445acc;\n",
       "  color: #f1f1f1;\n",
       "}\n",
       "#T_57b5e_row2_col12 {\n",
       "  background-color: #d75445;\n",
       "  color: #f1f1f1;\n",
       "}\n",
       "#T_57b5e_row2_col13, #T_57b5e_row9_col0, #T_57b5e_row10_col11, #T_57b5e_row11_col0, #T_57b5e_row13_col1, #T_57b5e_row13_col2, #T_57b5e_row13_col3, #T_57b5e_row13_col4, #T_57b5e_row13_col5, #T_57b5e_row13_col6, #T_57b5e_row13_col7, #T_57b5e_row13_col8, #T_57b5e_row13_col9, #T_57b5e_row13_col10, #T_57b5e_row13_col11, #T_57b5e_row13_col12 {\n",
       "  background-color: #3b4cc0;\n",
       "  color: #f1f1f1;\n",
       "}\n",
       "#T_57b5e_row3_col1, #T_57b5e_row4_col1 {\n",
       "  background-color: #7396f5;\n",
       "  color: #f1f1f1;\n",
       "}\n",
       "#T_57b5e_row3_col4 {\n",
       "  background-color: #bd1f2d;\n",
       "  color: #f1f1f1;\n",
       "}\n",
       "#T_57b5e_row3_col5, #T_57b5e_row5_col3 {\n",
       "  background-color: #c43032;\n",
       "  color: #f1f1f1;\n",
       "}\n",
       "#T_57b5e_row3_col6, #T_57b5e_row6_col1 {\n",
       "  background-color: #6e90f2;\n",
       "  color: #f1f1f1;\n",
       "}\n",
       "#T_57b5e_row3_col8, #T_57b5e_row8_col11 {\n",
       "  background-color: #4961d2;\n",
       "  color: #f1f1f1;\n",
       "}\n",
       "#T_57b5e_row3_col9 {\n",
       "  background-color: #e26952;\n",
       "  color: #f1f1f1;\n",
       "}\n",
       "#T_57b5e_row3_col11, #T_57b5e_row5_col11, #T_57b5e_row7_col8, #T_57b5e_row12_col11 {\n",
       "  background-color: #465ecf;\n",
       "  color: #f1f1f1;\n",
       "}\n",
       "#T_57b5e_row3_col12, #T_57b5e_row4_col9, #T_57b5e_row9_col12 {\n",
       "  background-color: #e67259;\n",
       "  color: #f1f1f1;\n",
       "}\n",
       "#T_57b5e_row3_col13, #T_57b5e_row6_col11, #T_57b5e_row13_col0 {\n",
       "  background-color: #3c4ec2;\n",
       "  color: #f1f1f1;\n",
       "}\n",
       "#T_57b5e_row4_col3, #T_57b5e_row4_col5, #T_57b5e_row5_col4, #T_57b5e_row6_col7, #T_57b5e_row7_col6 {\n",
       "  background-color: #bb1b2c;\n",
       "  color: #f1f1f1;\n",
       "}\n",
       "#T_57b5e_row4_col10, #T_57b5e_row5_col10, #T_57b5e_row8_col10 {\n",
       "  background-color: #5977e3;\n",
       "  color: #f1f1f1;\n",
       "}\n",
       "#T_57b5e_row4_col12, #T_57b5e_row5_col9 {\n",
       "  background-color: #e97a5f;\n",
       "  color: #f1f1f1;\n",
       "}\n",
       "#T_57b5e_row5_col1 {\n",
       "  background-color: #7597f6;\n",
       "  color: #f1f1f1;\n",
       "}\n",
       "#T_57b5e_row5_col12 {\n",
       "  background-color: #ed8366;\n",
       "  color: #f1f1f1;\n",
       "}\n",
       "#T_57b5e_row5_col13 {\n",
       "  background-color: #4358cb;\n",
       "  color: #f1f1f1;\n",
       "}\n",
       "#T_57b5e_row6_col0, #T_57b5e_row7_col0 {\n",
       "  background-color: #4257c9;\n",
       "  color: #f1f1f1;\n",
       "}\n",
       "#T_57b5e_row6_col9, #T_57b5e_row7_col9, #T_57b5e_row8_col9 {\n",
       "  background-color: #cedaeb;\n",
       "  color: #000000;\n",
       "}\n",
       "#T_57b5e_row6_col10, #T_57b5e_row7_col10 {\n",
       "  background-color: #5470de;\n",
       "  color: #f1f1f1;\n",
       "}\n",
       "#T_57b5e_row6_col13, #T_57b5e_row7_col13 {\n",
       "  background-color: #b9d0f9;\n",
       "  color: #000000;\n",
       "}\n",
       "#T_57b5e_row7_col11, #T_57b5e_row10_col0 {\n",
       "  background-color: #3d50c3;\n",
       "  color: #f1f1f1;\n",
       "}\n",
       "#T_57b5e_row8_col5, #T_57b5e_row11_col13 {\n",
       "  background-color: #d1dae9;\n",
       "  color: #000000;\n",
       "}\n",
       "#T_57b5e_row8_col6, #T_57b5e_row8_col7, #T_57b5e_row10_col7 {\n",
       "  background-color: #6687ed;\n",
       "  color: #f1f1f1;\n",
       "}\n",
       "#T_57b5e_row8_col12, #T_57b5e_row8_col13, #T_57b5e_row10_col9, #T_57b5e_row11_col12 {\n",
       "  background-color: #ccd9ed;\n",
       "  color: #000000;\n",
       "}\n",
       "#T_57b5e_row9_col3 {\n",
       "  background-color: #e16751;\n",
       "  color: #f1f1f1;\n",
       "}\n",
       "#T_57b5e_row9_col4, #T_57b5e_row12_col3 {\n",
       "  background-color: #e46e56;\n",
       "  color: #f1f1f1;\n",
       "}\n",
       "#T_57b5e_row9_col5 {\n",
       "  background-color: #e9785d;\n",
       "  color: #f1f1f1;\n",
       "}\n",
       "#T_57b5e_row9_col8, #T_57b5e_row10_col8, #T_57b5e_row12_col8, #T_57b5e_row12_col13 {\n",
       "  background-color: #4c66d6;\n",
       "  color: #f1f1f1;\n",
       "}\n",
       "#T_57b5e_row10_col6 {\n",
       "  background-color: #6485ec;\n",
       "  color: #f1f1f1;\n",
       "}\n",
       "#T_57b5e_row10_col12 {\n",
       "  background-color: #cdd9ec;\n",
       "  color: #000000;\n",
       "}\n",
       "#T_57b5e_row10_col13 {\n",
       "  background-color: #c4d5f3;\n",
       "  color: #000000;\n",
       "}\n",
       "#T_57b5e_row11_col1 {\n",
       "  background-color: #6788ee;\n",
       "  color: #f1f1f1;\n",
       "}\n",
       "#T_57b5e_row11_col6 {\n",
       "  background-color: #6282ea;\n",
       "  color: #f1f1f1;\n",
       "}\n",
       "#T_57b5e_row11_col7 {\n",
       "  background-color: #6384eb;\n",
       "  color: #f1f1f1;\n",
       "}\n",
       "#T_57b5e_row11_col8 {\n",
       "  background-color: #506bda;\n",
       "  color: #f1f1f1;\n",
       "}\n",
       "#T_57b5e_row11_col10 {\n",
       "  background-color: #4f69d9;\n",
       "  color: #f1f1f1;\n",
       "}\n",
       "#T_57b5e_row12_col0 {\n",
       "  background-color: #4055c8;\n",
       "  color: #f1f1f1;\n",
       "}\n",
       "#T_57b5e_row12_col1 {\n",
       "  background-color: #bbd1f8;\n",
       "  color: #000000;\n",
       "}\n",
       "#T_57b5e_row12_col2 {\n",
       "  background-color: #d55042;\n",
       "  color: #f1f1f1;\n",
       "}\n",
       "#T_57b5e_row12_col4 {\n",
       "  background-color: #e8765c;\n",
       "  color: #f1f1f1;\n",
       "}\n",
       "#T_57b5e_row12_col5 {\n",
       "  background-color: #ec7f63;\n",
       "  color: #f1f1f1;\n",
       "}\n",
       "#T_57b5e_row12_col9 {\n",
       "  background-color: #e57058;\n",
       "  color: #f1f1f1;\n",
       "}\n",
       "#T_57b5e_row12_col10 {\n",
       "  background-color: #5a78e4;\n",
       "  color: #f1f1f1;\n",
       "}\n",
       "</style>\n",
       "<table id=\"T_57b5e\">\n",
       "  <thead>\n",
       "    <tr>\n",
       "      <th class=\"blank level0\" >&nbsp;</th>\n",
       "      <th id=\"T_57b5e_level0_col0\" class=\"col_heading level0 col0\" >Id</th>\n",
       "      <th id=\"T_57b5e_level0_col1\" class=\"col_heading level0 col1\" >Area(total)</th>\n",
       "      <th id=\"T_57b5e_level0_col2\" class=\"col_heading level0 col2\" >Trooms</th>\n",
       "      <th id=\"T_57b5e_level0_col3\" class=\"col_heading level0 col3\" >Nbedrooms</th>\n",
       "      <th id=\"T_57b5e_level0_col4\" class=\"col_heading level0 col4\" >Nbwashrooms</th>\n",
       "      <th id=\"T_57b5e_level0_col5\" class=\"col_heading level0 col5\" >Twashrooms</th>\n",
       "      <th id=\"T_57b5e_level0_col6\" class=\"col_heading level0 col6\" >roof</th>\n",
       "      <th id=\"T_57b5e_level0_col7\" class=\"col_heading level0 col7\" >Roof(Area)</th>\n",
       "      <th id=\"T_57b5e_level0_col8\" class=\"col_heading level0 col8\" >Lawn(Area)</th>\n",
       "      <th id=\"T_57b5e_level0_col9\" class=\"col_heading level0 col9\" >Nfloors</th>\n",
       "      <th id=\"T_57b5e_level0_col10\" class=\"col_heading level0 col10\" >API</th>\n",
       "      <th id=\"T_57b5e_level0_col11\" class=\"col_heading level0 col11\" >ANB</th>\n",
       "      <th id=\"T_57b5e_level0_col12\" class=\"col_heading level0 col12\" >Expected price</th>\n",
       "      <th id=\"T_57b5e_level0_col13\" class=\"col_heading level0 col13\" >Grade</th>\n",
       "    </tr>\n",
       "  </thead>\n",
       "  <tbody>\n",
       "    <tr>\n",
       "      <th id=\"T_57b5e_level0_row0\" class=\"row_heading level0 row0\" >Id</th>\n",
       "      <td id=\"T_57b5e_row0_col0\" class=\"data row0 col0\" >1.000000</td>\n",
       "      <td id=\"T_57b5e_row0_col1\" class=\"data row0 col1\" >0.003186</td>\n",
       "      <td id=\"T_57b5e_row0_col2\" class=\"data row0 col2\" >0.003165</td>\n",
       "      <td id=\"T_57b5e_row0_col3\" class=\"data row0 col3\" >0.004814</td>\n",
       "      <td id=\"T_57b5e_row0_col4\" class=\"data row0 col4\" >0.003496</td>\n",
       "      <td id=\"T_57b5e_row0_col5\" class=\"data row0 col5\" >0.001092</td>\n",
       "      <td id=\"T_57b5e_row0_col6\" class=\"data row0 col6\" >0.011059</td>\n",
       "      <td id=\"T_57b5e_row0_col7\" class=\"data row0 col7\" >0.013046</td>\n",
       "      <td id=\"T_57b5e_row0_col8\" class=\"data row0 col8\" >0.006309</td>\n",
       "      <td id=\"T_57b5e_row0_col9\" class=\"data row0 col9\" >-0.010939</td>\n",
       "      <td id=\"T_57b5e_row0_col10\" class=\"data row0 col10\" >-0.003739</td>\n",
       "      <td id=\"T_57b5e_row0_col11\" class=\"data row0 col11\" >-0.013219</td>\n",
       "      <td id=\"T_57b5e_row0_col12\" class=\"data row0 col12\" >0.009216</td>\n",
       "      <td id=\"T_57b5e_row0_col13\" class=\"data row0 col13\" >-0.006074</td>\n",
       "    </tr>\n",
       "    <tr>\n",
       "      <th id=\"T_57b5e_level0_row1\" class=\"row_heading level0 row1\" >Area(total)</th>\n",
       "      <td id=\"T_57b5e_row1_col0\" class=\"data row1 col0\" >0.003186</td>\n",
       "      <td id=\"T_57b5e_row1_col1\" class=\"data row1 col1\" >1.000000</td>\n",
       "      <td id=\"T_57b5e_row1_col2\" class=\"data row1 col2\" >0.019041</td>\n",
       "      <td id=\"T_57b5e_row1_col3\" class=\"data row1 col3\" >0.031328</td>\n",
       "      <td id=\"T_57b5e_row1_col4\" class=\"data row1 col4\" >0.031819</td>\n",
       "      <td id=\"T_57b5e_row1_col5\" class=\"data row1 col5\" >0.038509</td>\n",
       "      <td id=\"T_57b5e_row1_col6\" class=\"data row1 col6\" >0.014229</td>\n",
       "      <td id=\"T_57b5e_row1_col7\" class=\"data row1 col7\" >0.017029</td>\n",
       "      <td id=\"T_57b5e_row1_col8\" class=\"data row1 col8\" >-0.002118</td>\n",
       "      <td id=\"T_57b5e_row1_col9\" class=\"data row1 col9\" >0.016819</td>\n",
       "      <td id=\"T_57b5e_row1_col10\" class=\"data row1 col10\" >-0.000182</td>\n",
       "      <td id=\"T_57b5e_row1_col11\" class=\"data row1 col11\" >-0.010846</td>\n",
       "      <td id=\"T_57b5e_row1_col12\" class=\"data row1 col12\" >0.274507</td>\n",
       "      <td id=\"T_57b5e_row1_col13\" class=\"data row1 col13\" >-0.177332</td>\n",
       "    </tr>\n",
       "    <tr>\n",
       "      <th id=\"T_57b5e_level0_row2\" class=\"row_heading level0 row2\" >Trooms</th>\n",
       "      <td id=\"T_57b5e_row2_col0\" class=\"data row2 col0\" >0.003165</td>\n",
       "      <td id=\"T_57b5e_row2_col1\" class=\"data row2 col1\" >0.019041</td>\n",
       "      <td id=\"T_57b5e_row2_col2\" class=\"data row2 col2\" >1.000000</td>\n",
       "      <td id=\"T_57b5e_row2_col3\" class=\"data row2 col3\" >0.865878</td>\n",
       "      <td id=\"T_57b5e_row2_col4\" class=\"data row2 col4\" >0.827072</td>\n",
       "      <td id=\"T_57b5e_row2_col5\" class=\"data row2 col5\" >0.794870</td>\n",
       "      <td id=\"T_57b5e_row2_col6\" class=\"data row2 col6\" >0.025142</td>\n",
       "      <td id=\"T_57b5e_row2_col7\" class=\"data row2 col7\" >0.026550</td>\n",
       "      <td id=\"T_57b5e_row2_col8\" class=\"data row2 col8\" >0.009557</td>\n",
       "      <td id=\"T_57b5e_row2_col9\" class=\"data row2 col9\" >0.862367</td>\n",
       "      <td id=\"T_57b5e_row2_col10\" class=\"data row2 col10\" >0.007502</td>\n",
       "      <td id=\"T_57b5e_row2_col11\" class=\"data row2 col11\" >0.007321</td>\n",
       "      <td id=\"T_57b5e_row2_col12\" class=\"data row2 col12\" >0.820170</td>\n",
       "      <td id=\"T_57b5e_row2_col13\" class=\"data row2 col13\" >-0.875145</td>\n",
       "    </tr>\n",
       "    <tr>\n",
       "      <th id=\"T_57b5e_level0_row3\" class=\"row_heading level0 row3\" >Nbedrooms</th>\n",
       "      <td id=\"T_57b5e_row3_col0\" class=\"data row3 col0\" >0.004814</td>\n",
       "      <td id=\"T_57b5e_row3_col1\" class=\"data row3 col1\" >0.031328</td>\n",
       "      <td id=\"T_57b5e_row3_col2\" class=\"data row3 col2\" >0.865878</td>\n",
       "      <td id=\"T_57b5e_row3_col3\" class=\"data row3 col3\" >1.000000</td>\n",
       "      <td id=\"T_57b5e_row3_col4\" class=\"data row3 col4\" >0.956578</td>\n",
       "      <td id=\"T_57b5e_row3_col5\" class=\"data row3 col5\" >0.919158</td>\n",
       "      <td id=\"T_57b5e_row3_col6\" class=\"data row3 col6\" >0.023058</td>\n",
       "      <td id=\"T_57b5e_row3_col7\" class=\"data row3 col7\" >0.025073</td>\n",
       "      <td id=\"T_57b5e_row3_col8\" class=\"data row3 col8\" >0.000054</td>\n",
       "      <td id=\"T_57b5e_row3_col9\" class=\"data row3 col9\" >0.742132</td>\n",
       "      <td id=\"T_57b5e_row3_col10\" class=\"data row3 col10\" >0.002820</td>\n",
       "      <td id=\"T_57b5e_row3_col11\" class=\"data row3 col11\" >0.015403</td>\n",
       "      <td id=\"T_57b5e_row3_col12\" class=\"data row3 col12\" >0.715687</td>\n",
       "      <td id=\"T_57b5e_row3_col13\" class=\"data row3 col13\" >-0.865389</td>\n",
       "    </tr>\n",
       "    <tr>\n",
       "      <th id=\"T_57b5e_level0_row4\" class=\"row_heading level0 row4\" >Nbwashrooms</th>\n",
       "      <td id=\"T_57b5e_row4_col0\" class=\"data row4 col0\" >0.003496</td>\n",
       "      <td id=\"T_57b5e_row4_col1\" class=\"data row4 col1\" >0.031819</td>\n",
       "      <td id=\"T_57b5e_row4_col2\" class=\"data row4 col2\" >0.827072</td>\n",
       "      <td id=\"T_57b5e_row4_col3\" class=\"data row4 col3\" >0.956578</td>\n",
       "      <td id=\"T_57b5e_row4_col4\" class=\"data row4 col4\" >1.000000</td>\n",
       "      <td id=\"T_57b5e_row4_col5\" class=\"data row4 col5\" >0.960007</td>\n",
       "      <td id=\"T_57b5e_row4_col6\" class=\"data row4 col6\" >0.028549</td>\n",
       "      <td id=\"T_57b5e_row4_col7\" class=\"data row4 col7\" >0.028832</td>\n",
       "      <td id=\"T_57b5e_row4_col8\" class=\"data row4 col8\" >0.006617</td>\n",
       "      <td id=\"T_57b5e_row4_col9\" class=\"data row4 col9\" >0.711936</td>\n",
       "      <td id=\"T_57b5e_row4_col10\" class=\"data row4 col10\" >0.011413</td>\n",
       "      <td id=\"T_57b5e_row4_col11\" class=\"data row4 col11\" >0.008475</td>\n",
       "      <td id=\"T_57b5e_row4_col12\" class=\"data row4 col12\" >0.683659</td>\n",
       "      <td id=\"T_57b5e_row4_col13\" class=\"data row4 col13\" >-0.847319</td>\n",
       "    </tr>\n",
       "    <tr>\n",
       "      <th id=\"T_57b5e_level0_row5\" class=\"row_heading level0 row5\" >Twashrooms</th>\n",
       "      <td id=\"T_57b5e_row5_col0\" class=\"data row5 col0\" >0.001092</td>\n",
       "      <td id=\"T_57b5e_row5_col1\" class=\"data row5 col1\" >0.038509</td>\n",
       "      <td id=\"T_57b5e_row5_col2\" class=\"data row5 col2\" >0.794870</td>\n",
       "      <td id=\"T_57b5e_row5_col3\" class=\"data row5 col3\" >0.919158</td>\n",
       "      <td id=\"T_57b5e_row5_col4\" class=\"data row5 col4\" >0.960007</td>\n",
       "      <td id=\"T_57b5e_row5_col5\" class=\"data row5 col5\" >1.000000</td>\n",
       "      <td id=\"T_57b5e_row5_col6\" class=\"data row5 col6\" >0.028212</td>\n",
       "      <td id=\"T_57b5e_row5_col7\" class=\"data row5 col7\" >0.028763</td>\n",
       "      <td id=\"T_57b5e_row5_col8\" class=\"data row5 col8\" >0.008386</td>\n",
       "      <td id=\"T_57b5e_row5_col9\" class=\"data row5 col9\" >0.684966</td>\n",
       "      <td id=\"T_57b5e_row5_col10\" class=\"data row5 col10\" >0.012361</td>\n",
       "      <td id=\"T_57b5e_row5_col11\" class=\"data row5 col11\" >0.016492</td>\n",
       "      <td id=\"T_57b5e_row5_col12\" class=\"data row5 col12\" >0.654627</td>\n",
       "      <td id=\"T_57b5e_row5_col13\" class=\"data row5 col13\" >-0.819280</td>\n",
       "    </tr>\n",
       "    <tr>\n",
       "      <th id=\"T_57b5e_level0_row6\" class=\"row_heading level0 row6\" >roof</th>\n",
       "      <td id=\"T_57b5e_row6_col0\" class=\"data row6 col0\" >0.011059</td>\n",
       "      <td id=\"T_57b5e_row6_col1\" class=\"data row6 col1\" >0.014229</td>\n",
       "      <td id=\"T_57b5e_row6_col2\" class=\"data row6 col2\" >0.025142</td>\n",
       "      <td id=\"T_57b5e_row6_col3\" class=\"data row6 col3\" >0.023058</td>\n",
       "      <td id=\"T_57b5e_row6_col4\" class=\"data row6 col4\" >0.028549</td>\n",
       "      <td id=\"T_57b5e_row6_col5\" class=\"data row6 col5\" >0.028212</td>\n",
       "      <td id=\"T_57b5e_row6_col6\" class=\"data row6 col6\" >1.000000</td>\n",
       "      <td id=\"T_57b5e_row6_col7\" class=\"data row6 col7\" >0.976561</td>\n",
       "      <td id=\"T_57b5e_row6_col8\" class=\"data row6 col8\" >-0.004640</td>\n",
       "      <td id=\"T_57b5e_row6_col9\" class=\"data row6 col9\" >0.014985</td>\n",
       "      <td id=\"T_57b5e_row6_col10\" class=\"data row6 col10\" >-0.007983</td>\n",
       "      <td id=\"T_57b5e_row6_col11\" class=\"data row6 col11\" >-0.020511</td>\n",
       "      <td id=\"T_57b5e_row6_col12\" class=\"data row6 col12\" >0.007880</td>\n",
       "      <td id=\"T_57b5e_row6_col13\" class=\"data row6 col13\" >-0.166635</td>\n",
       "    </tr>\n",
       "    <tr>\n",
       "      <th id=\"T_57b5e_level0_row7\" class=\"row_heading level0 row7\" >Roof(Area)</th>\n",
       "      <td id=\"T_57b5e_row7_col0\" class=\"data row7 col0\" >0.013046</td>\n",
       "      <td id=\"T_57b5e_row7_col1\" class=\"data row7 col1\" >0.017029</td>\n",
       "      <td id=\"T_57b5e_row7_col2\" class=\"data row7 col2\" >0.026550</td>\n",
       "      <td id=\"T_57b5e_row7_col3\" class=\"data row7 col3\" >0.025073</td>\n",
       "      <td id=\"T_57b5e_row7_col4\" class=\"data row7 col4\" >0.028832</td>\n",
       "      <td id=\"T_57b5e_row7_col5\" class=\"data row7 col5\" >0.028763</td>\n",
       "      <td id=\"T_57b5e_row7_col6\" class=\"data row7 col6\" >0.976561</td>\n",
       "      <td id=\"T_57b5e_row7_col7\" class=\"data row7 col7\" >1.000000</td>\n",
       "      <td id=\"T_57b5e_row7_col8\" class=\"data row7 col8\" >-0.006831</td>\n",
       "      <td id=\"T_57b5e_row7_col9\" class=\"data row7 col9\" >0.013840</td>\n",
       "      <td id=\"T_57b5e_row7_col10\" class=\"data row7 col10\" >-0.006331</td>\n",
       "      <td id=\"T_57b5e_row7_col11\" class=\"data row7 col11\" >-0.015529</td>\n",
       "      <td id=\"T_57b5e_row7_col12\" class=\"data row7 col12\" >0.009346</td>\n",
       "      <td id=\"T_57b5e_row7_col13\" class=\"data row7 col13\" >-0.170259</td>\n",
       "    </tr>\n",
       "    <tr>\n",
       "      <th id=\"T_57b5e_level0_row8\" class=\"row_heading level0 row8\" >Lawn(Area)</th>\n",
       "      <td id=\"T_57b5e_row8_col0\" class=\"data row8 col0\" >0.006309</td>\n",
       "      <td id=\"T_57b5e_row8_col1\" class=\"data row8 col1\" >-0.002118</td>\n",
       "      <td id=\"T_57b5e_row8_col2\" class=\"data row8 col2\" >0.009557</td>\n",
       "      <td id=\"T_57b5e_row8_col3\" class=\"data row8 col3\" >0.000054</td>\n",
       "      <td id=\"T_57b5e_row8_col4\" class=\"data row8 col4\" >0.006617</td>\n",
       "      <td id=\"T_57b5e_row8_col5\" class=\"data row8 col5\" >0.008386</td>\n",
       "      <td id=\"T_57b5e_row8_col6\" class=\"data row8 col6\" >-0.004640</td>\n",
       "      <td id=\"T_57b5e_row8_col7\" class=\"data row8 col7\" >-0.006831</td>\n",
       "      <td id=\"T_57b5e_row8_col8\" class=\"data row8 col8\" >1.000000</td>\n",
       "      <td id=\"T_57b5e_row8_col9\" class=\"data row8 col9\" >0.013771</td>\n",
       "      <td id=\"T_57b5e_row8_col10\" class=\"data row8 col10\" >0.011477</td>\n",
       "      <td id=\"T_57b5e_row8_col11\" class=\"data row8 col11\" >0.025751</td>\n",
       "      <td id=\"T_57b5e_row8_col12\" class=\"data row8 col12\" >0.011561</td>\n",
       "      <td id=\"T_57b5e_row8_col13\" class=\"data row8 col13\" >-0.051200</td>\n",
       "    </tr>\n",
       "    <tr>\n",
       "      <th id=\"T_57b5e_level0_row9\" class=\"row_heading level0 row9\" >Nfloors</th>\n",
       "      <td id=\"T_57b5e_row9_col0\" class=\"data row9 col0\" >-0.010939</td>\n",
       "      <td id=\"T_57b5e_row9_col1\" class=\"data row9 col1\" >0.016819</td>\n",
       "      <td id=\"T_57b5e_row9_col2\" class=\"data row9 col2\" >0.862367</td>\n",
       "      <td id=\"T_57b5e_row9_col3\" class=\"data row9 col3\" >0.742132</td>\n",
       "      <td id=\"T_57b5e_row9_col4\" class=\"data row9 col4\" >0.711936</td>\n",
       "      <td id=\"T_57b5e_row9_col5\" class=\"data row9 col5\" >0.684966</td>\n",
       "      <td id=\"T_57b5e_row9_col6\" class=\"data row9 col6\" >0.014985</td>\n",
       "      <td id=\"T_57b5e_row9_col7\" class=\"data row9 col7\" >0.013840</td>\n",
       "      <td id=\"T_57b5e_row9_col8\" class=\"data row9 col8\" >0.013771</td>\n",
       "      <td id=\"T_57b5e_row9_col9\" class=\"data row9 col9\" >1.000000</td>\n",
       "      <td id=\"T_57b5e_row9_col10\" class=\"data row9 col10\" >-0.002255</td>\n",
       "      <td id=\"T_57b5e_row9_col11\" class=\"data row9 col11\" >0.020614</td>\n",
       "      <td id=\"T_57b5e_row9_col12\" class=\"data row9 col12\" >0.714598</td>\n",
       "      <td id=\"T_57b5e_row9_col13\" class=\"data row9 col13\" >-0.787623</td>\n",
       "    </tr>\n",
       "    <tr>\n",
       "      <th id=\"T_57b5e_level0_row10\" class=\"row_heading level0 row10\" >API</th>\n",
       "      <td id=\"T_57b5e_row10_col0\" class=\"data row10 col0\" >-0.003739</td>\n",
       "      <td id=\"T_57b5e_row10_col1\" class=\"data row10 col1\" >-0.000182</td>\n",
       "      <td id=\"T_57b5e_row10_col2\" class=\"data row10 col2\" >0.007502</td>\n",
       "      <td id=\"T_57b5e_row10_col3\" class=\"data row10 col3\" >0.002820</td>\n",
       "      <td id=\"T_57b5e_row10_col4\" class=\"data row10 col4\" >0.011413</td>\n",
       "      <td id=\"T_57b5e_row10_col5\" class=\"data row10 col5\" >0.012361</td>\n",
       "      <td id=\"T_57b5e_row10_col6\" class=\"data row10 col6\" >-0.007983</td>\n",
       "      <td id=\"T_57b5e_row10_col7\" class=\"data row10 col7\" >-0.006331</td>\n",
       "      <td id=\"T_57b5e_row10_col8\" class=\"data row10 col8\" >0.011477</td>\n",
       "      <td id=\"T_57b5e_row10_col9\" class=\"data row10 col9\" >-0.002255</td>\n",
       "      <td id=\"T_57b5e_row10_col10\" class=\"data row10 col10\" >1.000000</td>\n",
       "      <td id=\"T_57b5e_row10_col11\" class=\"data row10 col11\" >-0.025694</td>\n",
       "      <td id=\"T_57b5e_row10_col12\" class=\"data row10 col12\" >0.016575</td>\n",
       "      <td id=\"T_57b5e_row10_col13\" class=\"data row10 col13\" >-0.099000</td>\n",
       "    </tr>\n",
       "    <tr>\n",
       "      <th id=\"T_57b5e_level0_row11\" class=\"row_heading level0 row11\" >ANB</th>\n",
       "      <td id=\"T_57b5e_row11_col0\" class=\"data row11 col0\" >-0.013219</td>\n",
       "      <td id=\"T_57b5e_row11_col1\" class=\"data row11 col1\" >-0.010846</td>\n",
       "      <td id=\"T_57b5e_row11_col2\" class=\"data row11 col2\" >0.007321</td>\n",
       "      <td id=\"T_57b5e_row11_col3\" class=\"data row11 col3\" >0.015403</td>\n",
       "      <td id=\"T_57b5e_row11_col4\" class=\"data row11 col4\" >0.008475</td>\n",
       "      <td id=\"T_57b5e_row11_col5\" class=\"data row11 col5\" >0.016492</td>\n",
       "      <td id=\"T_57b5e_row11_col6\" class=\"data row11 col6\" >-0.020511</td>\n",
       "      <td id=\"T_57b5e_row11_col7\" class=\"data row11 col7\" >-0.015529</td>\n",
       "      <td id=\"T_57b5e_row11_col8\" class=\"data row11 col8\" >0.025751</td>\n",
       "      <td id=\"T_57b5e_row11_col9\" class=\"data row11 col9\" >0.020614</td>\n",
       "      <td id=\"T_57b5e_row11_col10\" class=\"data row11 col10\" >-0.025694</td>\n",
       "      <td id=\"T_57b5e_row11_col11\" class=\"data row11 col11\" >1.000000</td>\n",
       "      <td id=\"T_57b5e_row11_col12\" class=\"data row11 col12\" >0.015583</td>\n",
       "      <td id=\"T_57b5e_row11_col13\" class=\"data row11 col13\" >-0.024025</td>\n",
       "    </tr>\n",
       "    <tr>\n",
       "      <th id=\"T_57b5e_level0_row12\" class=\"row_heading level0 row12\" >Expected price</th>\n",
       "      <td id=\"T_57b5e_row12_col0\" class=\"data row12 col0\" >0.009216</td>\n",
       "      <td id=\"T_57b5e_row12_col1\" class=\"data row12 col1\" >0.274507</td>\n",
       "      <td id=\"T_57b5e_row12_col2\" class=\"data row12 col2\" >0.820170</td>\n",
       "      <td id=\"T_57b5e_row12_col3\" class=\"data row12 col3\" >0.715687</td>\n",
       "      <td id=\"T_57b5e_row12_col4\" class=\"data row12 col4\" >0.683659</td>\n",
       "      <td id=\"T_57b5e_row12_col5\" class=\"data row12 col5\" >0.654627</td>\n",
       "      <td id=\"T_57b5e_row12_col6\" class=\"data row12 col6\" >0.007880</td>\n",
       "      <td id=\"T_57b5e_row12_col7\" class=\"data row12 col7\" >0.009346</td>\n",
       "      <td id=\"T_57b5e_row12_col8\" class=\"data row12 col8\" >0.011561</td>\n",
       "      <td id=\"T_57b5e_row12_col9\" class=\"data row12 col9\" >0.714598</td>\n",
       "      <td id=\"T_57b5e_row12_col10\" class=\"data row12 col10\" >0.016575</td>\n",
       "      <td id=\"T_57b5e_row12_col11\" class=\"data row12 col11\" >0.015583</td>\n",
       "      <td id=\"T_57b5e_row12_col12\" class=\"data row12 col12\" >1.000000</td>\n",
       "      <td id=\"T_57b5e_row12_col13\" class=\"data row12 col13\" >-0.760820</td>\n",
       "    </tr>\n",
       "    <tr>\n",
       "      <th id=\"T_57b5e_level0_row13\" class=\"row_heading level0 row13\" >Grade</th>\n",
       "      <td id=\"T_57b5e_row13_col0\" class=\"data row13 col0\" >-0.006074</td>\n",
       "      <td id=\"T_57b5e_row13_col1\" class=\"data row13 col1\" >-0.177332</td>\n",
       "      <td id=\"T_57b5e_row13_col2\" class=\"data row13 col2\" >-0.875145</td>\n",
       "      <td id=\"T_57b5e_row13_col3\" class=\"data row13 col3\" >-0.865389</td>\n",
       "      <td id=\"T_57b5e_row13_col4\" class=\"data row13 col4\" >-0.847319</td>\n",
       "      <td id=\"T_57b5e_row13_col5\" class=\"data row13 col5\" >-0.819280</td>\n",
       "      <td id=\"T_57b5e_row13_col6\" class=\"data row13 col6\" >-0.166635</td>\n",
       "      <td id=\"T_57b5e_row13_col7\" class=\"data row13 col7\" >-0.170259</td>\n",
       "      <td id=\"T_57b5e_row13_col8\" class=\"data row13 col8\" >-0.051200</td>\n",
       "      <td id=\"T_57b5e_row13_col9\" class=\"data row13 col9\" >-0.787623</td>\n",
       "      <td id=\"T_57b5e_row13_col10\" class=\"data row13 col10\" >-0.099000</td>\n",
       "      <td id=\"T_57b5e_row13_col11\" class=\"data row13 col11\" >-0.024025</td>\n",
       "      <td id=\"T_57b5e_row13_col12\" class=\"data row13 col12\" >-0.760820</td>\n",
       "      <td id=\"T_57b5e_row13_col13\" class=\"data row13 col13\" >1.000000</td>\n",
       "    </tr>\n",
       "  </tbody>\n",
       "</table>\n"
      ],
      "text/plain": [
       "<pandas.io.formats.style.Styler at 0x218ae9a5250>"
      ]
     },
     "execution_count": 65,
     "metadata": {},
     "output_type": "execute_result"
    }
   ],
   "source": [
    "corr=dfc.corr() # finding the correlation values between all features\n",
    "corr.style.background_gradient(cmap='coolwarm')"
   ]
  },
  {
   "cell_type": "markdown",
   "id": "3ff8be68",
   "metadata": {},
   "source": [
    "## selecting these columns: Area(total)','Trooms','Nbedrooms','Nbwashrooms','Twashrooms','Nfloors','Expected price','Area(total)','Roof(Area)'"
   ]
  },
  {
   "cell_type": "code",
   "execution_count": 99,
   "id": "5525984e",
   "metadata": {},
   "outputs": [
    {
     "data": {
      "image/png": "[encoded data removed]",
      "text/plain": [
       "<Figure size 1152x648 with 2 Axes>"
      ]
     },
     "metadata": {
      "needs_background": "light"
     },
     "output_type": "display_data"
    }
   ],
   "source": [
    "new_df=dfc[['Area(total)','Trooms','Nbedrooms','Nbwashrooms','Twashrooms','Nfloors','Expected price','Area(total)','Roof(Area)','Grade']]\n",
    "plt.figure(figsize=(16,9))\n",
    "hm = sns.heatmap(new_df.corr(), annot = True)\n",
    "hm.set(xlabel='\\nhouse Details', ylabel='house Details', title = \"Correlation matrix of house Data\\n\")\n",
    "plt.show()"
   ]
  },
  {
   "cell_type": "markdown",
   "id": "c44f49bc",
   "metadata": {},
   "source": [
    "## train test split"
   ]
  },
  {
   "cell_type": "code",
   "execution_count": 67,
   "id": "79d11668",
   "metadata": {},
   "outputs": [],
   "source": [
    "X=new_df.drop('Grade',axis=1)\n",
    "y=new_df['Grade']"
   ]
  },
  {
   "cell_type": "code",
   "execution_count": 68,
   "id": "389d1682",
   "metadata": {},
   "outputs": [
    {
     "data": {
      "text/plain": [
       "((2100, 9), (900, 9), (2100,), (900,))"
      ]
     },
     "execution_count": 68,
     "metadata": {},
     "output_type": "execute_result"
    }
   ],
   "source": [
    "\n",
    "\n",
    "X_train, X_test, y_train, y_test = train_test_split(X, y, train_size=0.7, random_state=20)\n",
    "X_train.shape, X_test.shape,y_train.shape,y_test.shape"
   ]
  },
  {
   "cell_type": "markdown",
   "id": "ac66de85",
   "metadata": {},
   "source": [
    "## scaling"
   ]
  },
  {
   "cell_type": "code",
   "execution_count": 69,
   "id": "d899d040",
   "metadata": {},
   "outputs": [],
   "source": [
    "scaler=StandardScaler() # usoig standard scaler\n",
    "\n",
    "X_train=scaler.fit_transform(X_train)\n",
    "X_test=scaler.transform(X_test)"
   ]
  },
  {
   "cell_type": "markdown",
   "id": "c7ec7571",
   "metadata": {},
   "source": [
    "# logistic regression model"
   ]
  },
  {
   "cell_type": "code",
   "execution_count": 209,
   "id": "1bc91dae",
   "metadata": {},
   "outputs": [
    {
     "name": "stderr",
     "output_type": "stream",
     "text": [
      "D:\\anacon\\lib\\site-packages\\sklearn\\linear_model\\_logistic.py:814: ConvergenceWarning: lbfgs failed to converge (status=1):\n",
      "STOP: TOTAL NO. of ITERATIONS REACHED LIMIT.\n",
      "\n",
      "Increase the number of iterations (max_iter) or scale the data as shown in:\n",
      "    https://scikit-learn.org/stable/modules/preprocessing.html\n",
      "Please also refer to the documentation for alternative solver options:\n",
      "    https://scikit-learn.org/stable/modules/linear_model.html#logistic-regression\n",
      "  n_iter_i = _check_optimize_result(\n"
     ]
    },
    {
     "data": {
      "text/plain": [
       "LogisticRegression()"
      ]
     },
     "execution_count": 209,
     "metadata": {},
     "output_type": "execute_result"
    }
   ],
   "source": [
    "lr_model=LogisticRegression()\n",
    "\n",
    "lr_model.fit(X_train,y_train)"
   ]
  },
  {
   "cell_type": "code",
   "execution_count": 210,
   "id": "c6641b64",
   "metadata": {},
   "outputs": [
    {
     "data": {
      "text/plain": [
       "array([2, 3, 1, 0, 0, 3, 1, 3, 3, 1, 3, 1, 2, 2, 3, 3, 3, 2, 3, 1, 1, 3,\n",
       "       3, 2, 2, 2, 0, 2, 2, 3, 3, 1, 3, 0, 1, 3, 0, 3, 2, 2, 0, 3, 2, 3,\n",
       "       1, 2, 2, 2, 3, 3, 2, 3, 3, 1, 3, 3, 1, 2, 3, 2, 2, 2, 3, 3, 3, 1,\n",
       "       4, 3, 1, 1, 3, 3, 0, 0, 3, 0, 3, 3, 3, 1, 3, 3, 0, 1, 1, 0, 2, 1,\n",
       "       2, 2, 1, 0, 3, 2, 3, 3, 2, 0, 3, 3, 3, 2, 2, 0, 3, 2, 0, 2, 1, 2,\n",
       "       1, 3, 2, 1, 4, 2, 3, 3, 3, 0, 0, 1, 3, 0, 3, 2, 3, 0, 1, 3, 3, 3,\n",
       "       3, 3, 2, 2, 0, 2, 3, 1, 3, 2, 2, 2, 4, 2, 3, 3, 2, 1, 3, 3, 2, 1,\n",
       "       3, 3, 0, 3, 0, 4, 2, 3, 0, 2, 3, 0, 3, 2, 3, 2, 0, 3, 3, 3, 1, 2,\n",
       "       3, 0, 0, 0, 3, 3, 1, 2, 3, 3, 1, 1, 1, 1, 3, 0, 1, 3, 0, 3, 3, 3,\n",
       "       3, 3, 2, 3, 0, 1, 1, 1, 0, 3, 2, 3, 2, 0, 3, 3, 3, 0, 2, 1, 2, 1,\n",
       "       3, 2, 2, 3, 2, 3, 2, 2, 1, 3, 3, 3, 2, 0, 3, 3, 3, 4, 3, 3, 3, 2,\n",
       "       0, 3, 2, 0, 2, 2, 1, 1, 1, 1, 3, 2, 1, 3, 3, 2, 3, 3, 3, 0, 3, 4,\n",
       "       2, 1, 3, 2, 3, 0, 3, 0, 3, 3, 1, 2, 1, 0, 1, 2, 1, 3, 1, 2, 2, 3,\n",
       "       2, 3, 3, 3, 1, 3, 1, 1, 3, 0, 3, 0, 2, 3, 3, 0, 3, 2, 3, 3, 3, 3,\n",
       "       3, 3, 3, 2, 3, 3, 2, 3, 3, 1, 4, 1, 3, 2, 2, 3, 3, 0, 2, 3, 0, 1,\n",
       "       0, 2, 0, 2, 3, 1, 2, 3, 2, 1, 2, 3, 3, 2, 0, 3, 3, 1, 0, 1, 2, 3,\n",
       "       2, 0, 3, 2, 3, 3, 1, 3, 0, 3, 1, 0, 0, 2, 3, 3, 3, 1, 3, 0, 3, 3,\n",
       "       0, 1, 3, 1, 3, 3, 3, 3, 3, 3, 3, 2, 1, 1, 2, 3, 0, 1, 3, 2, 3, 1,\n",
       "       3, 1, 3, 3, 0, 3, 3, 3, 3, 2, 0, 1, 0, 1, 3, 0, 3, 0, 1, 0, 0, 3,\n",
       "       3, 0, 3, 2, 2, 1, 1, 3, 2, 0, 0, 3, 3, 3, 3, 0, 3, 2, 1, 2, 3, 0,\n",
       "       0, 1, 3, 3, 1, 3, 3, 3, 2, 0, 2, 1, 0, 2, 1, 2, 1, 3, 0, 0, 3, 1,\n",
       "       3, 3, 2, 0, 3, 1, 1, 2, 0, 2, 3, 1, 2, 1, 3, 1, 0, 2, 2, 1, 3, 3,\n",
       "       2, 2, 3, 3, 0, 3, 1, 3, 0, 3, 3, 3, 3, 3, 0, 3, 3, 3, 3, 1, 0, 3,\n",
       "       2, 0, 0, 2, 3, 3, 4, 1, 1, 3, 2, 3, 3, 2, 2, 3, 3, 3, 3, 3, 1, 3,\n",
       "       1, 2, 3, 2, 1, 2, 3, 2, 2, 3, 3, 1, 3, 1, 3, 3, 1, 1, 0, 3, 2, 2,\n",
       "       2, 2, 1, 3, 3, 3, 0, 2, 3, 3, 1, 3, 3, 1, 3, 1, 2, 4, 2, 3, 3, 3,\n",
       "       3, 2, 3, 2, 1, 0, 2, 0, 1, 3, 2, 3, 1, 3, 1, 3, 3, 2, 3, 0, 3, 3,\n",
       "       0, 3, 2, 3, 3, 2, 3, 3, 3, 1, 1, 4, 3, 3, 3, 0, 3, 2, 1, 2, 3, 3,\n",
       "       3, 2, 3, 0, 2, 1, 2, 0, 2, 3, 3, 3, 3, 1, 3, 0, 2, 0, 3, 3, 2, 2,\n",
       "       2, 3, 3, 2, 2, 3, 3, 3, 1, 2, 1, 3, 3, 2, 2, 3, 3, 0, 1, 2, 2, 1,\n",
       "       3, 3, 3, 2, 3, 3, 3, 3, 3, 2, 2, 0, 2, 2, 4, 2, 3, 1, 1, 3, 3, 3,\n",
       "       3, 3, 2, 2, 3, 1, 0, 3, 1, 0, 3, 2, 0, 3, 3, 4, 2, 2, 3, 1, 2, 1,\n",
       "       3, 3, 3, 3, 3, 0, 0, 1, 3, 0, 3, 3, 2, 3, 1, 1, 2, 1, 3, 3, 3, 1,\n",
       "       3, 2, 0, 2, 3, 3, 2, 0, 1, 3, 3, 3, 3, 3, 0, 3, 3, 2, 0, 3, 3, 3,\n",
       "       3, 2, 3, 3, 3, 3, 2, 1, 1, 3, 2, 3, 1, 1, 1, 3, 1, 3, 3, 3, 3, 1,\n",
       "       3, 3, 3, 2, 3, 3, 2, 3, 3, 1, 1, 0, 1, 1, 0, 2, 0, 3, 3, 0, 1, 2,\n",
       "       3, 2, 2, 2, 0, 2, 0, 1, 2, 1, 3, 2, 3, 2, 2, 2, 0, 0, 3, 3, 2, 0,\n",
       "       3, 3, 0, 3, 0, 1, 1, 3, 0, 0, 3, 1, 3, 3, 3, 0, 1, 3, 2, 0, 1, 3,\n",
       "       2, 3, 0, 3, 2, 3, 3, 2, 3, 1, 3, 4, 1, 2, 3, 3, 3, 3, 3, 2, 1, 2,\n",
       "       1, 0, 3, 0, 1, 1, 2, 3, 0, 3, 1, 3, 3, 3, 1, 3, 0, 4, 2, 1, 3, 3,\n",
       "       2, 3, 2, 2, 3, 3, 3, 3, 1, 3, 0, 3, 3, 3, 1, 3, 3, 2, 0, 3])"
      ]
     },
     "execution_count": 210,
     "metadata": {},
     "output_type": "execute_result"
    }
   ],
   "source": [
    "lr_y_pred=lr_model.predict(X_test)\n",
    "lr_y_pred"
   ]
  },
  {
   "cell_type": "code",
   "execution_count": 211,
   "id": "f41119c3",
   "metadata": {},
   "outputs": [
    {
     "data": {
      "text/plain": [
       "array([[ 1.37951564,  5.90649858,  4.38088197,  2.98420681,  2.31315116,\n",
       "         3.41061433,  0.73871008,  1.37951564,  2.75042117],\n",
       "       [ 0.80058379,  2.59940243,  1.67293706,  1.07211962,  0.9041688 ,\n",
       "         1.24364682,  0.22165708,  0.80058379,  1.48838318],\n",
       "       [ 0.15851428, -0.78157368, -0.41318499, -0.02062322, -0.8299197 ,\n",
       "        -0.53148239,  0.03799181,  0.15851428,  0.2361721 ],\n",
       "       [-0.72429171, -3.34992924, -2.32652623, -1.53744849, -0.94117425,\n",
       "        -1.98069972, -0.37774275, -0.72429171, -1.47583717],\n",
       "       [-1.614322  , -4.37439809, -3.31410782, -2.49825472, -1.44622601,\n",
       "        -2.14207904, -0.62061621, -1.614322  , -2.99913928]])"
      ]
     },
     "execution_count": 211,
     "metadata": {},
     "output_type": "execute_result"
    }
   ],
   "source": [
    "log_coeff=lr_model.coef_ # coefficients of features in the model for various classes\n",
    "log_coeff"
   ]
  },
  {
   "cell_type": "markdown",
   "id": "90f63711",
   "metadata": {},
   "source": [
    "### ploting confusion matrix"
   ]
  },
  {
   "cell_type": "code",
   "execution_count": 212,
   "id": "be5e6115",
   "metadata": {},
   "outputs": [
    {
     "name": "stderr",
     "output_type": "stream",
     "text": [
      "D:\\anacon\\lib\\site-packages\\sklearn\\utils\\deprecation.py:87: FutureWarning: Function plot_confusion_matrix is deprecated; Function `plot_confusion_matrix` is deprecated in 1.0 and will be removed in 1.2. Use one of the class methods: ConfusionMatrixDisplay.from_predictions or ConfusionMatrixDisplay.from_estimator.\n",
      "  warnings.warn(msg, category=FutureWarning)\n"
     ]
    },
    {
     "data": {
      "image/png": "[encoded data removed]",
      "text/plain": [
       "<Figure size 432x288 with 2 Axes>"
      ]
     },
     "metadata": {
      "needs_background": "light"
     },
     "output_type": "display_data"
    }
   ],
   "source": [
    "plot_confusion_matrix(lr_model,X_test,y_test);"
   ]
  },
  {
   "cell_type": "markdown",
   "id": "a38b3913",
   "metadata": {},
   "source": [
    "### classification report"
   ]
  },
  {
   "cell_type": "code",
   "execution_count": 213,
   "id": "50dcf56f",
   "metadata": {},
   "outputs": [
    {
     "name": "stdout",
     "output_type": "stream",
     "text": [
      "              precision    recall  f1-score   support\n",
      "\n",
      "           0       0.91      0.88      0.90       133\n",
      "           1       0.82      0.85      0.84       154\n",
      "           2       0.87      0.83      0.85       209\n",
      "           3       0.92      0.95      0.93       385\n",
      "           4       0.64      0.47      0.55        19\n",
      "\n",
      "    accuracy                           0.88       900\n",
      "   macro avg       0.83      0.80      0.81       900\n",
      "weighted avg       0.88      0.88      0.88       900\n",
      "\n"
     ]
    }
   ],
   "source": [
    "\n",
    "print(classification_report(y_test,lr_y_pred))"
   ]
  },
  {
   "cell_type": "code",
   "execution_count": 231,
   "id": "1884b8e5",
   "metadata": {},
   "outputs": [
    {
     "name": "stdout",
     "output_type": "stream",
     "text": [
      "accuracy: 0.8844444444444445\n"
     ]
    }
   ],
   "source": [
    "acc_lr=accuracy_score(y_test, lr_y_pred)\n",
    "print('accuracy:', accuracy_score(y_test, lr_y_pred)) # accuracy in test data"
   ]
  },
  {
   "cell_type": "code",
   "execution_count": 232,
   "id": "a6181cea",
   "metadata": {},
   "outputs": [],
   "source": [
    "# making a list for appending accuracy scores of varioous models"
   ]
  },
  {
   "cell_type": "code",
   "execution_count": 243,
   "id": "01ab9fa0",
   "metadata": {},
   "outputs": [],
   "source": [
    "results=[]\n",
    "names=[]\n",
    "meanres=[]"
   ]
  },
  {
   "cell_type": "code",
   "execution_count": 244,
   "id": "a2398308",
   "metadata": {},
   "outputs": [],
   "source": [
    "results.append(acc_lr)\n",
    "meanres.append(acc_lr)\n",
    "names.append('logistic regression')"
   ]
  },
  {
   "cell_type": "markdown",
   "id": "9dde8eeb",
   "metadata": {},
   "source": [
    "# gaussian naive bayes model"
   ]
  },
  {
   "cell_type": "code",
   "execution_count": 245,
   "id": "a8efab5c",
   "metadata": {},
   "outputs": [
    {
     "data": {
      "text/plain": [
       "GaussianNB()"
      ]
     },
     "execution_count": 245,
     "metadata": {},
     "output_type": "execute_result"
    }
   ],
   "source": [
    "classifier = GaussianNB()  \n",
    "classifier.fit(X_train, y_train)  "
   ]
  },
  {
   "cell_type": "code",
   "execution_count": 246,
   "id": "c72710ae",
   "metadata": {},
   "outputs": [
    {
     "data": {
      "text/plain": [
       "array([2, 3, 1, 0, 0, 3, 1, 3, 3, 1, 3, 1, 2, 2, 3, 3, 4, 3, 3, 2, 0, 3,\n",
       "       3, 2, 1, 2, 0, 2, 2, 3, 3, 1, 4, 0, 2, 3, 1, 3, 2, 2, 0, 4, 3, 4,\n",
       "       1, 1, 1, 2, 3, 3, 1, 2, 3, 1, 4, 3, 1, 2, 3, 2, 2, 2, 3, 3, 3, 1,\n",
       "       4, 3, 1, 1, 2, 3, 0, 1, 2, 0, 3, 2, 3, 1, 2, 3, 0, 1, 1, 0, 2, 1,\n",
       "       1, 2, 1, 0, 4, 1, 2, 3, 2, 0, 3, 4, 3, 2, 2, 0, 4, 2, 0, 2, 1, 2,\n",
       "       1, 3, 2, 2, 4, 2, 3, 3, 3, 0, 0, 1, 4, 0, 3, 2, 3, 0, 1, 3, 3, 3,\n",
       "       3, 4, 1, 2, 0, 2, 4, 1, 3, 3, 1, 2, 4, 2, 2, 4, 1, 1, 2, 3, 2, 2,\n",
       "       4, 3, 0, 3, 1, 4, 1, 3, 0, 2, 3, 0, 3, 1, 3, 1, 0, 3, 3, 2, 1, 2,\n",
       "       3, 0, 0, 1, 3, 3, 0, 2, 3, 3, 1, 1, 2, 1, 3, 0, 1, 3, 0, 3, 4, 3,\n",
       "       3, 3, 1, 3, 0, 2, 1, 1, 0, 3, 2, 3, 2, 0, 3, 3, 3, 0, 1, 1, 1, 1,\n",
       "       3, 2, 2, 3, 2, 3, 2, 2, 0, 3, 3, 2, 2, 0, 3, 3, 4, 4, 3, 3, 3, 2,\n",
       "       0, 3, 1, 0, 2, 1, 1, 1, 1, 0, 3, 2, 1, 3, 3, 2, 3, 2, 3, 0, 3, 4,\n",
       "       2, 1, 3, 2, 3, 0, 4, 0, 3, 3, 1, 1, 1, 0, 1, 1, 1, 3, 1, 3, 2, 4,\n",
       "       2, 3, 3, 3, 1, 3, 2, 1, 3, 0, 3, 0, 1, 3, 2, 0, 3, 1, 3, 3, 3, 3,\n",
       "       3, 3, 3, 2, 3, 2, 2, 3, 3, 1, 4, 1, 3, 2, 2, 3, 3, 0, 1, 2, 0, 1,\n",
       "       0, 2, 0, 2, 2, 0, 2, 3, 2, 1, 2, 3, 3, 2, 1, 3, 3, 1, 0, 1, 2, 3,\n",
       "       2, 0, 3, 2, 3, 3, 1, 3, 0, 3, 1, 0, 0, 2, 3, 3, 4, 1, 3, 0, 3, 3,\n",
       "       1, 1, 3, 1, 3, 3, 3, 3, 3, 3, 3, 2, 1, 0, 2, 3, 0, 1, 3, 1, 3, 1,\n",
       "       3, 2, 4, 3, 0, 3, 4, 3, 3, 2, 0, 1, 1, 1, 3, 1, 3, 0, 1, 0, 0, 3,\n",
       "       4, 0, 3, 2, 2, 1, 1, 2, 2, 0, 0, 3, 2, 3, 3, 0, 3, 1, 1, 2, 3, 0,\n",
       "       0, 0, 3, 3, 1, 3, 2, 4, 2, 0, 1, 1, 1, 1, 1, 3, 0, 2, 0, 0, 3, 1,\n",
       "       2, 3, 2, 0, 3, 1, 1, 2, 0, 2, 3, 1, 2, 1, 3, 1, 0, 3, 1, 1, 3, 4,\n",
       "       1, 2, 3, 3, 0, 4, 1, 3, 0, 3, 3, 3, 3, 3, 0, 2, 3, 3, 3, 1, 0, 3,\n",
       "       1, 0, 0, 2, 2, 3, 4, 1, 0, 2, 2, 3, 3, 2, 1, 3, 2, 3, 3, 3, 1, 2,\n",
       "       1, 2, 3, 2, 2, 2, 3, 2, 1, 3, 3, 1, 3, 1, 2, 3, 1, 1, 0, 3, 2, 2,\n",
       "       3, 1, 1, 2, 3, 3, 0, 2, 4, 3, 1, 3, 3, 1, 4, 0, 2, 4, 2, 2, 3, 3,\n",
       "       3, 2, 3, 2, 1, 0, 2, 0, 1, 2, 2, 3, 1, 3, 1, 3, 3, 2, 3, 0, 4, 3,\n",
       "       0, 3, 1, 3, 2, 2, 3, 3, 2, 1, 1, 4, 3, 3, 3, 0, 3, 2, 1, 2, 3, 3,\n",
       "       2, 2, 3, 1, 2, 1, 2, 0, 2, 3, 3, 3, 3, 1, 3, 0, 1, 0, 3, 3, 2, 2,\n",
       "       2, 3, 3, 2, 2, 2, 3, 2, 0, 2, 1, 3, 3, 3, 3, 3, 3, 0, 1, 2, 2, 1,\n",
       "       3, 3, 3, 2, 3, 3, 3, 3, 3, 2, 1, 0, 3, 2, 4, 2, 3, 1, 1, 3, 4, 3,\n",
       "       3, 3, 2, 1, 3, 1, 0, 3, 1, 0, 3, 2, 1, 3, 3, 4, 2, 2, 3, 1, 2, 1,\n",
       "       3, 3, 3, 3, 2, 0, 0, 2, 3, 0, 3, 3, 3, 3, 1, 1, 1, 1, 3, 3, 3, 1,\n",
       "       3, 1, 1, 2, 3, 3, 2, 0, 0, 3, 2, 3, 3, 3, 0, 2, 3, 2, 0, 2, 3, 3,\n",
       "       3, 2, 3, 3, 3, 3, 2, 1, 1, 2, 2, 2, 1, 2, 1, 3, 1, 4, 3, 3, 3, 1,\n",
       "       3, 3, 3, 2, 3, 3, 2, 3, 2, 1, 1, 0, 1, 1, 0, 2, 0, 3, 3, 0, 1, 2,\n",
       "       3, 2, 2, 2, 0, 2, 0, 2, 2, 1, 3, 2, 3, 2, 3, 2, 0, 1, 2, 3, 2, 0,\n",
       "       3, 3, 0, 2, 0, 2, 1, 3, 0, 0, 3, 1, 3, 3, 3, 0, 1, 3, 2, 1, 1, 2,\n",
       "       2, 3, 0, 2, 2, 3, 3, 2, 3, 0, 3, 4, 1, 2, 3, 2, 3, 3, 3, 2, 1, 2,\n",
       "       0, 0, 3, 0, 0, 1, 2, 3, 1, 4, 1, 3, 3, 3, 0, 3, 0, 4, 2, 1, 3, 2,\n",
       "       2, 4, 2, 2, 3, 3, 4, 3, 1, 3, 0, 3, 3, 3, 2, 3, 3, 2, 0, 3])"
      ]
     },
     "execution_count": 246,
     "metadata": {},
     "output_type": "execute_result"
    }
   ],
   "source": [
    "cl_y_pred = classifier.predict(X_test) \n",
    "cl_y_pred"
   ]
  },
  {
   "cell_type": "markdown",
   "id": "2002f69c",
   "metadata": {},
   "source": [
    "### plot confusion matrix"
   ]
  },
  {
   "cell_type": "code",
   "execution_count": 247,
   "id": "d0e692f3",
   "metadata": {},
   "outputs": [
    {
     "name": "stderr",
     "output_type": "stream",
     "text": [
      "D:\\anacon\\lib\\site-packages\\sklearn\\utils\\deprecation.py:87: FutureWarning: Function plot_confusion_matrix is deprecated; Function `plot_confusion_matrix` is deprecated in 1.0 and will be removed in 1.2. Use one of the class methods: ConfusionMatrixDisplay.from_predictions or ConfusionMatrixDisplay.from_estimator.\n",
      "  warnings.warn(msg, category=FutureWarning)\n"
     ]
    },
    {
     "data": {
      "image/png": "[encoded data removed]",
      "text/plain": [
       "<Figure size 432x288 with 2 Axes>"
      ]
     },
     "metadata": {
      "needs_background": "light"
     },
     "output_type": "display_data"
    }
   ],
   "source": [
    "\n",
    "plot_confusion_matrix(classifier,X_test,y_test);"
   ]
  },
  {
   "cell_type": "markdown",
   "id": "30824435",
   "metadata": {},
   "source": [
    "### classification report"
   ]
  },
  {
   "cell_type": "code",
   "execution_count": 248,
   "id": "6fef2642",
   "metadata": {},
   "outputs": [
    {
     "name": "stdout",
     "output_type": "stream",
     "text": [
      "              precision    recall  f1-score   support\n",
      "\n",
      "           0       0.89      0.86      0.88       133\n",
      "           1       0.67      0.79      0.73       154\n",
      "           2       0.70      0.70      0.70       209\n",
      "           3       0.93      0.81      0.87       385\n",
      "           4       0.37      0.89      0.52        19\n",
      "\n",
      "    accuracy                           0.79       900\n",
      "   macro avg       0.71      0.81      0.74       900\n",
      "weighted avg       0.82      0.79      0.80       900\n",
      "\n"
     ]
    }
   ],
   "source": [
    "print(classification_report(y_test,cl_y_pred))"
   ]
  },
  {
   "cell_type": "code",
   "execution_count": 249,
   "id": "99d847fc",
   "metadata": {},
   "outputs": [
    {
     "name": "stdout",
     "output_type": "stream",
     "text": [
      "accuracy: 0.7911111111111111\n"
     ]
    }
   ],
   "source": [
    "acc_cl=accuracy_score(y_test, cl_y_pred)\n",
    "print('accuracy:', accuracy_score(y_test, cl_y_pred)) # accuracy in test data"
   ]
  },
  {
   "cell_type": "code",
   "execution_count": 250,
   "id": "d8fa587d",
   "metadata": {},
   "outputs": [],
   "source": [
    "results.append(acc_cl)\n",
    "meanres.append(acc_cl)\n",
    "names.append('gaussian bayes')"
   ]
  },
  {
   "cell_type": "markdown",
   "id": "5ccb1969",
   "metadata": {},
   "source": [
    "# decision tree classifier model\n"
   ]
  },
  {
   "cell_type": "code",
   "execution_count": 252,
   "id": "ea6ae3fe",
   "metadata": {},
   "outputs": [
    {
     "name": "stdout",
     "output_type": "stream",
     "text": [
      "0.8250000000000001\n"
     ]
    }
   ],
   "source": [
    "DT = DecisionTreeClassifier()\n",
    "\n",
    "cv2 = RepeatedStratifiedKFold(n_splits=10, n_repeats=3, random_state=1)\n",
    "n_scores_DT = cross_val_score(DT, X, y, scoring='accuracy', cv=cv2, n_jobs=-1, error_score='raise')\n",
    "results.append(n_scores_DT)\n",
    "names.append('DecisionTree')\n",
    "\n",
    "\n",
    "print( n_scores_DT.mean())\n",
    "meanres.append(n_scores_DT.mean())"
   ]
  },
  {
   "cell_type": "markdown",
   "id": "eb3e5558",
   "metadata": {},
   "source": [
    "# random forest classifier"
   ]
  },
  {
   "cell_type": "code",
   "execution_count": 254,
   "id": "dae68432",
   "metadata": {},
   "outputs": [
    {
     "name": "stdout",
     "output_type": "stream",
     "text": [
      "Accuracy-Score: 0.873 (0.017)\n"
     ]
    }
   ],
   "source": [
    "model = RandomForestClassifier()\n",
    "\n",
    "\n",
    "cv = RepeatedStratifiedKFold(n_splits=10, n_repeats=3, random_state=1)\n",
    "n_scores = cross_val_score(model, X,y, scoring='accuracy', cv=cv, n_jobs=-1, error_score='raise')\n",
    "results.append(n_scores)\n",
    "names.append('rf')\n",
    "\n",
    "\n",
    "print('Accuracy-Score: %.3f (%.3f)' % (mean(n_scores), std(n_scores)))\n",
    "meanres.append(n_scores.mean())"
   ]
  },
  {
   "cell_type": "markdown",
   "id": "8ee3cbde",
   "metadata": {},
   "source": [
    "# boosting"
   ]
  },
  {
   "cell_type": "code",
   "execution_count": 255,
   "id": "a1579313",
   "metadata": {},
   "outputs": [
    {
     "name": "stdout",
     "output_type": "stream",
     "text": [
      "Accuracy 59.24444444444445\n"
     ]
    }
   ],
   "source": [
    "Ada_model = AdaBoostClassifier()\n",
    "\n",
    "cv4 = RepeatedStratifiedKFold(n_splits=10, n_repeats=3, random_state=10)\n",
    "n_scores_Ada = cross_val_score(Ada_model, X, y, scoring='accuracy', cv=cv4, n_jobs=-1, error_score='raise')\n",
    "results.append(n_scores_Ada)\n",
    "names.append('Adabooting')\n",
    "\n",
    "print(\"Accuracy\", n_scores_Ada.mean()*100)\n",
    "meanres.append(n_scores_Ada.mean())"
   ]
  },
  {
   "cell_type": "markdown",
   "id": "2db3c09d",
   "metadata": {},
   "source": [
    "# stacking"
   ]
  },
  {
   "cell_type": "code",
   "execution_count": 227,
   "id": "64afd32f",
   "metadata": {},
   "outputs": [],
   "source": [
    "def get_stacking():\n",
    "    \n",
    "    level0 = list()\n",
    "    \n",
    "    level0.append(('knn', KNeighborsClassifier()))\n",
    "    level0.append(('cart', DecisionTreeClassifier()))\n",
    "    level0.append(('svm', SVC()))\n",
    "    level0.append(('bayes', GaussianNB()))\n",
    "    level0.append(('rfc',RandomForestClassifier()))\n",
    "    \n",
    "    level1 = LogisticRegression()\n",
    "\n",
    "    model = StackingClassifier(estimators=level0, final_estimator=level1, cv=4)\n",
    "    return model"
   ]
  },
  {
   "cell_type": "code",
   "execution_count": 256,
   "id": "576f498e",
   "metadata": {},
   "outputs": [
    {
     "name": "stdout",
     "output_type": "stream",
     "text": [
      "Accuracy : 87.38\n"
     ]
    }
   ],
   "source": [
    "model_S = get_stacking()\n",
    "\n",
    "cv5 = RepeatedStratifiedKFold(n_splits=10, n_repeats=3, random_state=10)\n",
    "n_scores_S = cross_val_score(model_S, X, y, scoring='accuracy', cv=cv5, n_jobs=-1, error_score='raise')\n",
    "results.append(n_scores_S)\n",
    "names.append('stacking')\n",
    "\n",
    "print(\"Accuracy :\",round(n_scores_S.mean()*100,2))\n",
    "meanres.append(n_scores_S.mean())"
   ]
  },
  {
   "cell_type": "markdown",
   "id": "cc7a55de",
   "metadata": {},
   "source": [
    "## comparing accuracy scores of various models"
   ]
  },
  {
   "cell_type": "code",
   "execution_count": 257,
   "id": "5c139501",
   "metadata": {},
   "outputs": [
    {
     "data": {
      "image/png": "[encoded data removed]",
      "text/plain": [
       "<Figure size 1152x648 with 1 Axes>"
      ]
     },
     "metadata": {
      "needs_background": "light"
     },
     "output_type": "display_data"
    }
   ],
   "source": [
    "plt.figure(figsize=(16,9))\n",
    "plt.boxplot(results,labels=names,showmeans=True)\n",
    "plt.show()"
   ]
  },
  {
   "cell_type": "code",
   "execution_count": 258,
   "id": "1049d92c",
   "metadata": {},
   "outputs": [
    {
     "data": {
      "text/html": [
       "<div>\n",
       "<style scoped>\n",
       "    .dataframe tbody tr th:only-of-type {\n",
       "        vertical-align: middle;\n",
       "    }\n",
       "\n",
       "    .dataframe tbody tr th {\n",
       "        vertical-align: top;\n",
       "    }\n",
       "\n",
       "    .dataframe thead th {\n",
       "        text-align: right;\n",
       "    }\n",
       "</style>\n",
       "<table border=\"1\" class=\"dataframe\">\n",
       "  <thead>\n",
       "    <tr style=\"text-align: right;\">\n",
       "      <th></th>\n",
       "      <th>models</th>\n",
       "      <th>accuracy score</th>\n",
       "    </tr>\n",
       "  </thead>\n",
       "  <tbody>\n",
       "    <tr>\n",
       "      <th>0</th>\n",
       "      <td>logistic regression</td>\n",
       "      <td>0.884444</td>\n",
       "    </tr>\n",
       "    <tr>\n",
       "      <th>1</th>\n",
       "      <td>gaussian bayes</td>\n",
       "      <td>0.791111</td>\n",
       "    </tr>\n",
       "    <tr>\n",
       "      <th>2</th>\n",
       "      <td>DecisionTree</td>\n",
       "      <td>0.825000</td>\n",
       "    </tr>\n",
       "    <tr>\n",
       "      <th>3</th>\n",
       "      <td>rf</td>\n",
       "      <td>0.873111</td>\n",
       "    </tr>\n",
       "    <tr>\n",
       "      <th>4</th>\n",
       "      <td>Adabooting</td>\n",
       "      <td>0.592444</td>\n",
       "    </tr>\n",
       "    <tr>\n",
       "      <th>5</th>\n",
       "      <td>stacking</td>\n",
       "      <td>0.873778</td>\n",
       "    </tr>\n",
       "  </tbody>\n",
       "</table>\n",
       "</div>"
      ],
      "text/plain": [
       "                models  accuracy score\n",
       "0  logistic regression        0.884444\n",
       "1       gaussian bayes        0.791111\n",
       "2         DecisionTree        0.825000\n",
       "3                   rf        0.873111\n",
       "4           Adabooting        0.592444\n",
       "5             stacking        0.873778"
      ]
     },
     "execution_count": 258,
     "metadata": {},
     "output_type": "execute_result"
    }
   ],
   "source": [
    "per=pd.DataFrame({'models':names,'accuracy score':meanres})\n",
    "per"
   ]
  },
  {
   "cell_type": "markdown",
   "id": "c39949ab",
   "metadata": {},
   "source": [
    "## conclusion\n",
    "### we can take logistic regression as our best model as it is having highest accuracy score of 0.88 than the other models"
   ]
  },
  {
   "cell_type": "code",
   "execution_count": null,
   "id": "4e4d53f2",
   "metadata": {},
   "outputs": [],
   "source": [
    "encoder=LabelEncoder()\n",
    "dfc_train['subscription_id']=encoder.fit_transform(dfc_train['subscription_id'])\n",
    "dfc_train['observation_dt']=encoder.fit_transform(dfc_train['observation_dt'])\n",
    "dfc_train['specialization_id']=encoder.fit_transform(dfc_train['specialization_id'])\n",
    "dfc_train['specialization_domain']=encoder.fit_transform(dfc_train['specialization_domain'])\n",
    "dfc_train['is_professional_certificate']=encoder.fit_transform(dfc_train['is_professional_certificate'])\n",
    "dfc_train['is_gateway_certificate']=encoder.fit_transform(dfc_train['is_gateway_certificate'])\n",
    "dfc_train['learner_country_group']=encoder.fit_transform(dfc_train['learner_country_group'])\n",
    "dfc_train['learner_gender']=encoder.fit_transform(dfc_train['learner_gender'])\n",
    "dfc_train['is_subscription_started_with_free_trial']=encoder.fit_transform(dfc_train['is_subscription_started_with_free_trial'])\n",
    "dfc_train['is_active_capstone_during_pay_period']=encoder.fit_transform(dfc_train['is_active_capstone_during_pay_period'])\n",
    "\n",
    "\n",
    "dfc_test['subscription_id']=encoder.fit_transform(dfc_test['subscription_id'])\n",
    "dfc_test['observation_dt']=encoder.fit_transform(dfc_test['observation_dt'])\n",
    "dfc_test['specialization_id']=encoder.fit_transform(dfc_test['specialization_id'])\n",
    "dfc_test['specialization_domain']=encoder.fit_transform(dfc_test['specialization_domain'])\n",
    "dfc_test['is_professional_certificate']=encoder.fit_transform(dfc_test['is_professional_certificate'])\n",
    "dfc_test['is_gateway_certificate']=encoder.fit_transform(dfc_test['is_gateway_certificate'])\n",
    "dfc_test['learner_country_group']=encoder.fit_transform(dfc_test['learner_country_group'])\n",
    "dfc_test['learner_gender']=encoder.fit_transform(dfc_test['learner_gender'])\n",
    "dfc_test['is_subscription_started_with_free_trial']=encoder.fit_transform(dfc_test['is_subscription_started_with_free_trial'])\n",
    "dfc_test['is_active_capstone_during_pay_period']=encoder.fit_transform(dfc_test['is_active_capstone_during_pay_period'])"
   ]
  }
 ],
 "metadata": {
  "kernelspec": {
   "display_name": "Python 3 (ipykernel)",
   "language": "python",
   "name": "python3"
  },
  "language_info": {
   "codemirror_mode": {
    "name": "ipython",
    "version": 3
   },
   "file_extension": ".py",
   "mimetype": "text/x-python",
   "name": "python",
   "nbconvert_exporter": "python",
   "pygments_lexer": "ipython3",
   "version": "3.9.12"
  }
 },
 "nbformat": 4,
 "nbformat_minor": 5
}
